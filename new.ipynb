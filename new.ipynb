{
 "cells": [
  {
   "cell_type": "markdown",
   "metadata": {},
   "source": [
    "# import libraries"
   ]
  },
  {
   "cell_type": "code",
   "execution_count": null,
   "metadata": {},
   "outputs": [],
   "source": [
    "import numpy as np\n",
    "import pandas as pd\n",
    "import numpy as np\n",
    "from itertools import cycle\n",
    "import pandas as pd\n",
    "from xgboost import XGBClassifier\n",
    "from sklearn.model_selection import cross_val_score, train_test_split, StratifiedKFold, RandomizedSearchCV\n",
    "from sklearn.metrics import roc_curve, f1_score\n",
    "from sklearn.preprocessing import LabelEncoder\n",
    "from imblearn.over_sampling import ADASYN"
   ]
  },
  {
   "cell_type": "markdown",
   "metadata": {},
   "source": [
    "# load training data and check the top 5 features"
   ]
  },
  {
   "cell_type": "code",
   "execution_count": null,
   "metadata": {},
   "outputs": [],
   "source": [
    "data = pd.read_csv('train.csv')\n",
    "data.head(5)"
   ]
  },
  {
   "cell_type": "markdown",
   "metadata": {},
   "source": [
    "# check data info"
   ]
  },
  {
   "cell_type": "code",
   "execution_count": null,
   "metadata": {},
   "outputs": [],
   "source": [
    "data.info()"
   ]
  },
  {
   "cell_type": "markdown",
   "metadata": {},
   "source": [
    "# label encode all categorical columns and fill missing values"
   ]
  },
  {
   "cell_type": "code",
   "execution_count": null,
   "metadata": {},
   "outputs": [],
   "source": [
    "le = LabelEncoder()\n",
    "data[\"Division\"] = le.fit_transform(data[\"Division\"])\n",
    "data[\"Gender\"] = le.fit_transform(data[\"Gender\"])\n",
    "data[\"Channel_of_Recruitment\"] = le.fit_transform(data[\"Channel_of_Recruitment\"])\n",
    "data[\"Foreign_schooled\"] = le.fit_transform(data[\"Foreign_schooled\"])\n",
    "data[\"Marital_Status\"] = le.fit_transform(data[\"Marital_Status\"])\n",
    "data[\"Past_Disciplinary_Action\"] = le.fit_transform(data[\"Past_Disciplinary_Action\"])\n",
    "data[\"State_Of_Origin\"] = le.fit_transform(data[\"State_Of_Origin\"])\n",
    "data[\"Previous_IntraDepartmental_Movement\"] = le.fit_transform(data[\"Previous_IntraDepartmental_Movement\"])\n",
    "data['No_of_previous_employers'] = data['No_of_previous_employers'].replace('More than 5', 6)\n",
    "data['No_of_previous_employers'] = pd.to_numeric(data['No_of_previous_employers'])\n",
    "data['Qualification'] = data['Qualification'].fillna('First Degree or HND')\n",
    "data['Qualification'] = le.fit_transform(data['Qualification'])\n",
    "data.drop(['EmployeeNo'], axis=1, inplace=True)\n",
    "data.head(5)"
   ]
  },
  {
   "cell_type": "markdown",
   "metadata": {},
   "source": [
    "# separate the training data into dependent and independent variables"
   ]
  },
  {
   "cell_type": "code",
   "execution_count": null,
   "metadata": {},
   "outputs": [],
   "source": [
    "y = data['Promoted_or_Not']\n",
    "X = data.drop('Promoted_or_Not', axis=1)"
   ]
  },
  {
   "cell_type": "markdown",
   "metadata": {},
   "source": [
    "# check the class distribution of the dependent variable"
   ]
  },
  {
   "cell_type": "code",
   "execution_count": null,
   "metadata": {},
   "outputs": [],
   "source": [
    "# get class distribution\n",
    "print (\"Not Promoted:\", data['Promoted_or_Not'][data['Promoted_or_Not'] == 0].count()) #class = 0\n",
    "print (\"Promoted:\", data['Promoted_or_Not'][data['Promoted_or_Not'] == 1].count()) #class = 1"
   ]
  },
  {
   "cell_type": "markdown",
   "metadata": {},
   "source": [
    "# since the independent variable class is unbalanced, balance it and split into train and test"
   ]
  },
  {
   "cell_type": "code",
   "execution_count": null,
   "metadata": {},
   "outputs": [],
   "source": [
    "# Oversampling the dataset\n",
    "sm = ADASYN(random_state=1)\n",
    "X, y = sm.fit_sample(X, y)\n",
    "# setting up testing and training sets\n",
    "X_train, X_test, y_train, y_test = train_test_split(X, y, test_size=0.3, random_state=1)"
   ]
  },
  {
   "cell_type": "markdown",
   "metadata": {},
   "source": [
    "# fit the train data into an xgboost classifier"
   ]
  },
  {
   "cell_type": "code",
   "execution_count": null,
   "metadata": {},
   "outputs": [],
   "source": [
    "params = {'min_child_weight':[4,5], \n",
    "          'nthread':[4],\n",
    "          'gamma':[i/10.0 for i in range(3,6)],  \n",
    "          'learning_rate': [.03, 0.05, .07, 0.1],\n",
    "          'subsample':[i/10.0 for i in range(6,11)],\n",
    "          'min_child_weight': [4],\n",
    "          'silent': [1],\n",
    "          'colsample_bytree':[i/10.0 for i in range(6,11)], \n",
    "          'max_depth': [2,3,4],\n",
    "          'n_estimators': [1000]}\n",
    "\n",
    "XGB_model = XGBClassifier(objective ='binary:hinge', \n",
    "                                         silent=False,\n",
    "                                         scale_pos_weight=1,\n",
    "                                         learning_rate = 0.01,\n",
    "                                         subsample = 1.0,\n",
    "                                         n_estimators=2000, \n",
    "                                         max_depth=16, \n",
    "                                         booster = 'dart',\n",
    "                                         colsample_bytree = 0.6,\n",
    "                                         reg_alpha = 0.28,\n",
    "                                         gamma=0.4,\n",
    "                                         verbosity=3)\n",
    "XGB_model = RandomizedSearchCV(XGB_model, params, n_jobs=1,n_iter=10)\n",
    "XGB_model.fit(X_train, y_train)"
   ]
  },
  {
   "cell_type": "markdown",
   "metadata": {},
   "source": [
    "# use the xgboost model to predict on the test evaluation set and calculate f1 score"
   ]
  },
  {
   "cell_type": "code",
   "execution_count": null,
   "metadata": {},
   "outputs": [],
   "source": [
    "XGB_predictions = XGB_model.predict(X_test)\n",
    "XGB_predictions = [round(value) for value in XGB_predictions]\n",
    "score = f1_score(y_test, XGB_predictions)\n",
    "print(score)"
   ]
  },
  {
   "cell_type": "markdown",
   "metadata": {},
   "source": [
    "# load and predict using the test dataset provided and write predictions to csv file"
   ]
  },
  {
   "cell_type": "code",
   "execution_count": null,
   "metadata": {},
   "outputs": [],
   "source": [
    "test_id = pd.read_csv('test.csv')\n",
    "test = pd.read_csv('test.csv')\n",
    "\n",
    "test[\"Division\"] = le.fit_transform(test[\"Division\"])\n",
    "test[\"Gender\"] = le.fit_transform(test[\"Gender\"])\n",
    "test[\"Channel_of_Recruitment\"] = le.fit_transform(test[\"Channel_of_Recruitment\"])\n",
    "test[\"Foreign_schooled\"] = le.fit_transform(test[\"Foreign_schooled\"])\n",
    "test[\"Marital_Status\"] = le.fit_transform(test[\"Marital_Status\"])\n",
    "test[\"Past_Disciplinary_Action\"] = le.fit_transform(test[\"Past_Disciplinary_Action\"])\n",
    "test[\"State_Of_Origin\"] = le.fit_transform(test[\"State_Of_Origin\"])\n",
    "test['No_of_previous_employers'] = test['No_of_previous_employers'].replace('More than 5', 6)\n",
    "test[\"Previous_IntraDepartmental_Movement\"] = le.fit_transform(test[\"Previous_IntraDepartmental_Movement\"])\n",
    "test['No_of_previous_employers'] = pd.to_numeric(test['No_of_previous_employers'])\n",
    "test['Qualification'] = test['Qualification'].fillna('First Degree or HND')\n",
    "test['Qualification'] = le.fit_transform(test['Qualification'])\n",
    "test.drop(['EmployeeNo'], axis=1, inplace=True)\n",
    "\n",
    "pred = grid.predict(test)\n",
    "pred = [int(round(value)) for value in pred]\n",
    "\n",
    "output = pd.DataFrame({'EmployeeNo': test_id.EmployeeNo, 'Promoted_or_Not': pred})\n",
    "output.to_csv('submission.csv', index=False)"
   ]
  }
 ],
 "metadata": {
  "kernelspec": {
   "display_name": "Python 3",
   "language": "python",
   "name": "python3"
  },
  "language_info": {
   "codemirror_mode": {
    "name": "ipython",
    "version": 3
   },
   "file_extension": ".py",
   "mimetype": "text/x-python",
   "name": "python",
   "nbconvert_exporter": "python",
   "pygments_lexer": "ipython3",
   "version": "3.7.4"
  }
 },
 "nbformat": 4,
 "nbformat_minor": 2
}
