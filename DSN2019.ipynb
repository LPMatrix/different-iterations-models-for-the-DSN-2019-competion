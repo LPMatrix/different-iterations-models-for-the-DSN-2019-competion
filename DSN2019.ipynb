{
 "cells": [
  {
   "cell_type": "code",
   "execution_count": 1,
   "metadata": {
    "colab": {
     "base_uri": "https://localhost:8080/",
     "height": 72
    },
    "colab_type": "code",
    "id": "Ln0uickxElYZ",
    "outputId": "c5a7d527-c642-448b-adcc-637dcb57edde"
   },
   "outputs": [],
   "source": [
    "%matplotlib inline\n",
    "import matplotlib.pyplot as plt\n",
    "import pandas as pd\n",
    "import numpy as np\n",
    "from numpy import sort\n",
    "from sklearn.impute import SimpleImputer\n",
    "from sklearn.preprocessing import OneHotEncoder,StandardScaler,OrdinalEncoder,PolynomialFeatures\n",
    "from sklearn.model_selection import cross_val_score, cross_val_predict,RandomizedSearchCV\n",
    "from sklearn.model_selection import StratifiedShuffleSplit\n",
    "from sklearn.compose import ColumnTransformer\n",
    "from sklearn.base import BaseEstimator, TransformerMixin\n",
    "from sklearn.pipeline import Pipeline\n",
    "from sklearn.ensemble import  RandomForestClassifier\n",
    "from xgboost import XGBClassifier, plot_importance\n",
    "from imblearn.over_sampling import SMOTE\n",
    "from imblearn.pipeline import Pipeline\n",
    "from sklearn.metrics import classification_report, accuracy_score\n",
    "from sklearn.metrics import precision_score, recall_score, f1_score,confusion_matrix\n",
    "from imblearn.pipeline import Pipeline\n",
    "from sklearn.feature_selection import SelectFromModel\n",
    "from lightgbm import LGBMClassifier\n",
    "from imblearn.over_sampling import ADASYN"
   ]
  },
  {
   "cell_type": "code",
   "execution_count": 2,
   "metadata": {
    "colab": {
     "base_uri": "https://localhost:8080/",
     "height": 401
    },
    "colab_type": "code",
    "id": "-ElM5rFNHw8C",
    "outputId": "9c023ed3-3530-4005-aa0b-eaf2aabe267d"
   },
   "outputs": [
    {
     "data": {
      "text/html": [
       "<div>\n",
       "<style scoped>\n",
       "    .dataframe tbody tr th:only-of-type {\n",
       "        vertical-align: middle;\n",
       "    }\n",
       "\n",
       "    .dataframe tbody tr th {\n",
       "        vertical-align: top;\n",
       "    }\n",
       "\n",
       "    .dataframe thead th {\n",
       "        text-align: right;\n",
       "    }\n",
       "</style>\n",
       "<table border=\"1\" class=\"dataframe\">\n",
       "  <thead>\n",
       "    <tr style=\"text-align: right;\">\n",
       "      <th></th>\n",
       "      <th>EmployeeNo</th>\n",
       "      <th>Division</th>\n",
       "      <th>Qualification</th>\n",
       "      <th>Gender</th>\n",
       "      <th>Channel_of_Recruitment</th>\n",
       "      <th>Trainings_Attended</th>\n",
       "      <th>Year_of_birth</th>\n",
       "      <th>Last_performance_score</th>\n",
       "      <th>Year_of_recruitment</th>\n",
       "      <th>Targets_met</th>\n",
       "      <th>Previous_Award</th>\n",
       "      <th>Training_score_average</th>\n",
       "      <th>State_Of_Origin</th>\n",
       "      <th>Foreign_schooled</th>\n",
       "      <th>Marital_Status</th>\n",
       "      <th>Past_Disciplinary_Action</th>\n",
       "      <th>Previous_IntraDepartmental_Movement</th>\n",
       "      <th>No_of_previous_employers</th>\n",
       "      <th>Promoted_or_Not</th>\n",
       "    </tr>\n",
       "  </thead>\n",
       "  <tbody>\n",
       "    <tr>\n",
       "      <td>0</td>\n",
       "      <td>YAK/S/00001</td>\n",
       "      <td>Commercial Sales and Marketing</td>\n",
       "      <td>MSc, MBA and PhD</td>\n",
       "      <td>Female</td>\n",
       "      <td>Direct Internal process</td>\n",
       "      <td>2</td>\n",
       "      <td>1986</td>\n",
       "      <td>12.5</td>\n",
       "      <td>2011</td>\n",
       "      <td>1</td>\n",
       "      <td>0</td>\n",
       "      <td>41</td>\n",
       "      <td>ANAMBRA</td>\n",
       "      <td>No</td>\n",
       "      <td>Married</td>\n",
       "      <td>No</td>\n",
       "      <td>No</td>\n",
       "      <td>0</td>\n",
       "      <td>0</td>\n",
       "    </tr>\n",
       "    <tr>\n",
       "      <td>1</td>\n",
       "      <td>YAK/S/00002</td>\n",
       "      <td>Customer Support and Field Operations</td>\n",
       "      <td>First Degree or HND</td>\n",
       "      <td>Male</td>\n",
       "      <td>Agency and others</td>\n",
       "      <td>2</td>\n",
       "      <td>1991</td>\n",
       "      <td>12.5</td>\n",
       "      <td>2015</td>\n",
       "      <td>0</td>\n",
       "      <td>0</td>\n",
       "      <td>52</td>\n",
       "      <td>ANAMBRA</td>\n",
       "      <td>Yes</td>\n",
       "      <td>Married</td>\n",
       "      <td>No</td>\n",
       "      <td>No</td>\n",
       "      <td>0</td>\n",
       "      <td>0</td>\n",
       "    </tr>\n",
       "    <tr>\n",
       "      <td>2</td>\n",
       "      <td>YAK/S/00003</td>\n",
       "      <td>Commercial Sales and Marketing</td>\n",
       "      <td>First Degree or HND</td>\n",
       "      <td>Male</td>\n",
       "      <td>Direct Internal process</td>\n",
       "      <td>2</td>\n",
       "      <td>1987</td>\n",
       "      <td>7.5</td>\n",
       "      <td>2012</td>\n",
       "      <td>0</td>\n",
       "      <td>0</td>\n",
       "      <td>42</td>\n",
       "      <td>KATSINA</td>\n",
       "      <td>Yes</td>\n",
       "      <td>Married</td>\n",
       "      <td>No</td>\n",
       "      <td>No</td>\n",
       "      <td>0</td>\n",
       "      <td>0</td>\n",
       "    </tr>\n",
       "    <tr>\n",
       "      <td>3</td>\n",
       "      <td>YAK/S/00004</td>\n",
       "      <td>Commercial Sales and Marketing</td>\n",
       "      <td>First Degree or HND</td>\n",
       "      <td>Male</td>\n",
       "      <td>Agency and others</td>\n",
       "      <td>3</td>\n",
       "      <td>1982</td>\n",
       "      <td>2.5</td>\n",
       "      <td>2009</td>\n",
       "      <td>0</td>\n",
       "      <td>0</td>\n",
       "      <td>42</td>\n",
       "      <td>NIGER</td>\n",
       "      <td>Yes</td>\n",
       "      <td>Single</td>\n",
       "      <td>No</td>\n",
       "      <td>No</td>\n",
       "      <td>1</td>\n",
       "      <td>0</td>\n",
       "    </tr>\n",
       "    <tr>\n",
       "      <td>4</td>\n",
       "      <td>YAK/S/00006</td>\n",
       "      <td>Information and Strategy</td>\n",
       "      <td>First Degree or HND</td>\n",
       "      <td>Male</td>\n",
       "      <td>Direct Internal process</td>\n",
       "      <td>3</td>\n",
       "      <td>1990</td>\n",
       "      <td>7.5</td>\n",
       "      <td>2012</td>\n",
       "      <td>0</td>\n",
       "      <td>0</td>\n",
       "      <td>77</td>\n",
       "      <td>AKWA IBOM</td>\n",
       "      <td>Yes</td>\n",
       "      <td>Married</td>\n",
       "      <td>No</td>\n",
       "      <td>No</td>\n",
       "      <td>1</td>\n",
       "      <td>0</td>\n",
       "    </tr>\n",
       "  </tbody>\n",
       "</table>\n",
       "</div>"
      ],
      "text/plain": [
       "    EmployeeNo                               Division        Qualification  \\\n",
       "0  YAK/S/00001         Commercial Sales and Marketing     MSc, MBA and PhD   \n",
       "1  YAK/S/00002  Customer Support and Field Operations  First Degree or HND   \n",
       "2  YAK/S/00003         Commercial Sales and Marketing  First Degree or HND   \n",
       "3  YAK/S/00004         Commercial Sales and Marketing  First Degree or HND   \n",
       "4  YAK/S/00006               Information and Strategy  First Degree or HND   \n",
       "\n",
       "   Gender   Channel_of_Recruitment  Trainings_Attended  Year_of_birth  \\\n",
       "0  Female  Direct Internal process                   2           1986   \n",
       "1    Male        Agency and others                   2           1991   \n",
       "2    Male  Direct Internal process                   2           1987   \n",
       "3    Male        Agency and others                   3           1982   \n",
       "4    Male  Direct Internal process                   3           1990   \n",
       "\n",
       "   Last_performance_score  Year_of_recruitment  Targets_met  Previous_Award  \\\n",
       "0                    12.5                 2011            1               0   \n",
       "1                    12.5                 2015            0               0   \n",
       "2                     7.5                 2012            0               0   \n",
       "3                     2.5                 2009            0               0   \n",
       "4                     7.5                 2012            0               0   \n",
       "\n",
       "   Training_score_average State_Of_Origin Foreign_schooled Marital_Status  \\\n",
       "0                      41         ANAMBRA               No        Married   \n",
       "1                      52         ANAMBRA              Yes        Married   \n",
       "2                      42         KATSINA              Yes        Married   \n",
       "3                      42           NIGER              Yes         Single   \n",
       "4                      77       AKWA IBOM              Yes        Married   \n",
       "\n",
       "  Past_Disciplinary_Action Previous_IntraDepartmental_Movement  \\\n",
       "0                       No                                  No   \n",
       "1                       No                                  No   \n",
       "2                       No                                  No   \n",
       "3                       No                                  No   \n",
       "4                       No                                  No   \n",
       "\n",
       "  No_of_previous_employers  Promoted_or_Not  \n",
       "0                        0                0  \n",
       "1                        0                0  \n",
       "2                        0                0  \n",
       "3                        1                0  \n",
       "4                        1                0  "
      ]
     },
     "execution_count": 2,
     "metadata": {},
     "output_type": "execute_result"
    }
   ],
   "source": [
    "train = pd.read_csv('train.csv')\n",
    "train.head()"
   ]
  },
  {
   "cell_type": "code",
   "execution_count": 3,
   "metadata": {
    "colab": {},
    "colab_type": "code",
    "id": "fPoZfeGiICEi"
   },
   "outputs": [],
   "source": [
    "test_ = pd.read_csv('test.csv')"
   ]
  },
  {
   "cell_type": "code",
   "execution_count": 4,
   "metadata": {
    "colab": {},
    "colab_type": "code",
    "id": "-badRi-TsY10"
   },
   "outputs": [],
   "source": [
    "test = test_.drop(columns=['EmployeeNo', 'State_Of_Origin'])"
   ]
  },
  {
   "cell_type": "code",
   "execution_count": 5,
   "metadata": {
    "colab": {
     "base_uri": "https://localhost:8080/",
     "height": 443
    },
    "colab_type": "code",
    "id": "4H86x_m0IbV5",
    "outputId": "4addcbfa-17ce-49c8-fb31-4a09f07770bf"
   },
   "outputs": [
    {
     "name": "stdout",
     "output_type": "stream",
     "text": [
      "<class 'pandas.core.frame.DataFrame'>\n",
      "RangeIndex: 38312 entries, 0 to 38311\n",
      "Data columns (total 19 columns):\n",
      "EmployeeNo                             38312 non-null object\n",
      "Division                               38312 non-null object\n",
      "Qualification                          36633 non-null object\n",
      "Gender                                 38312 non-null object\n",
      "Channel_of_Recruitment                 38312 non-null object\n",
      "Trainings_Attended                     38312 non-null int64\n",
      "Year_of_birth                          38312 non-null int64\n",
      "Last_performance_score                 38312 non-null float64\n",
      "Year_of_recruitment                    38312 non-null int64\n",
      "Targets_met                            38312 non-null int64\n",
      "Previous_Award                         38312 non-null int64\n",
      "Training_score_average                 38312 non-null int64\n",
      "State_Of_Origin                        38312 non-null object\n",
      "Foreign_schooled                       38312 non-null object\n",
      "Marital_Status                         38312 non-null object\n",
      "Past_Disciplinary_Action               38312 non-null object\n",
      "Previous_IntraDepartmental_Movement    38312 non-null object\n",
      "No_of_previous_employers               38312 non-null object\n",
      "Promoted_or_Not                        38312 non-null int64\n",
      "dtypes: float64(1), int64(7), object(11)\n",
      "memory usage: 5.6+ MB\n"
     ]
    }
   ],
   "source": [
    "train.info()"
   ]
  },
  {
   "cell_type": "code",
   "execution_count": 6,
   "metadata": {
    "colab": {
     "base_uri": "https://localhost:8080/",
     "height": 301
    },
    "colab_type": "code",
    "id": "XoTupCy5L99s",
    "outputId": "39208114-7dd1-4471-e028-af231999a1c8"
   },
   "outputs": [
    {
     "name": "stdout",
     "output_type": "stream",
     "text": [
      "['Commercial Sales and Marketing' 'Customer Support and Field Operations'\n",
      " 'Information and Strategy' 'Information Technology and Solution Support'\n",
      " 'Sourcing and Purchasing' 'Business Finance Operations'\n",
      " 'People/HR Management' 'Research and Innovation'\n",
      " 'Regulatory and Legal services']\n",
      "['MSc, MBA and PhD' 'First Degree or HND' nan 'Non-University Education']\n",
      "['Direct Internal process' 'Agency and others'\n",
      " 'Referral and Special candidates']\n",
      "['ANAMBRA' 'KATSINA' 'NIGER' 'AKWA IBOM' 'ENUGU' 'OYO' 'LAGOS' 'ONDO'\n",
      " 'KWARA' 'EDO' 'BAUCHI' 'TARABA' 'RIVERS' 'KADUNA' 'PLATEAU' 'EKITI'\n",
      " 'BORNO' 'IMO' 'CROSS RIVER' 'KANO' 'FCT' 'OGUN' 'GOMBE' 'DELTA' 'BENUE'\n",
      " 'ZAMFARA' 'OSUN' 'ABIA' 'KEBBI' 'ADAMAWA' 'NASSARAWA' 'SOKOTO' 'KOGI'\n",
      " 'JIGAWA' 'BAYELSA' 'YOBE' 'EBONYI']\n",
      "['Married' 'Single' 'Not_Sure']\n",
      "['0' '1' '4' '3' '2' 'More than 5' '5']\n",
      "[12.5  7.5  2.5 10.   0.   5. ]\n"
     ]
    }
   ],
   "source": [
    "print(train['Division'].unique())\n",
    "print(train['Qualification'].unique())\n",
    "print(train['Channel_of_Recruitment'].unique())\n",
    "print(train['State_Of_Origin'].unique())\n",
    "print(train['Marital_Status'].unique())\n",
    "print(train['No_of_previous_employers'].unique())\n",
    "print(train['Last_performance_score'].unique())"
   ]
  },
  {
   "cell_type": "code",
   "execution_count": 7,
   "metadata": {
    "colab": {},
    "colab_type": "code",
    "id": "IGxjgvcbMaxl"
   },
   "outputs": [],
   "source": [
    "train = train.astype({'Division':'category', 'Qualification':'category',\n",
    "                'Gender':'category', 'Channel_of_Recruitment':'category', \n",
    "                'State_Of_Origin':'category', 'Foreign_schooled':'category',\n",
    "                'Marital_Status':'category', 'Past_Disciplinary_Action':'category',\n",
    "                'Previous_IntraDepartmental_Movement':'category', 'No_of_previous_employers':'category',\n",
    "                'Targets_met':'category', 'Previous_Award':'category', 'Last_performance_score':'category'})"
   ]
  },
  {
   "cell_type": "code",
   "execution_count": 8,
   "metadata": {
    "colab": {},
    "colab_type": "code",
    "id": "hCsmt53V4WQp"
   },
   "outputs": [],
   "source": [
    "# pandas_profiling.ProfileReport(train)"
   ]
  },
  {
   "cell_type": "code",
   "execution_count": 9,
   "metadata": {
    "colab": {
     "base_uri": "https://localhost:8080/",
     "height": 70
    },
    "colab_type": "code",
    "id": "uBeM9mTZSZNy",
    "outputId": "7b1d1efd-bd1e-431c-9a2a-a1fc6fe551df"
   },
   "outputs": [
    {
     "name": "stdout",
     "output_type": "stream",
     "text": [
      "Class 0: 35071\n",
      "Class 1: 3241\n",
      "Proportion: 10.82 : 1\n"
     ]
    },
    {
     "data": {
      "image/png": "[encoded data removed]",
      "text/plain": [
       "<Figure size 432x288 with 1 Axes>"
      ]
     },
     "metadata": {
      "needs_background": "light"
     },
     "output_type": "display_data"
    }
   ],
   "source": [
    "target_count = train['Promoted_or_Not'].value_counts()\n",
    "print('Class 0:', target_count[0])\n",
    "print('Class 1:', target_count[1])\n",
    "print('Proportion:', round(target_count[0] / target_count[1], 2), ': 1')\n",
    "\n",
    "target_count.plot(kind='bar', title='Count (target)');"
   ]
  },
  {
   "cell_type": "code",
   "execution_count": 10,
   "metadata": {
    "colab": {
     "base_uri": "https://localhost:8080/",
     "height": 212
    },
    "colab_type": "code",
    "id": "h3viK9CL6rNA",
    "outputId": "f113a7dc-8ece-4c02-ab7b-1b456a08b49b"
   },
   "outputs": [
    {
     "data": {
      "text/plain": [
       "2     30981\n",
       "3      5631\n",
       "4      1244\n",
       "5       316\n",
       "6        93\n",
       "7        28\n",
       "8         6\n",
       "10        5\n",
       "11        4\n",
       "9         4\n",
       "Name: Trainings_Attended, dtype: int64"
      ]
     },
     "execution_count": 10,
     "metadata": {},
     "output_type": "execute_result"
    }
   ],
   "source": [
    "train['Trainings_Attended'].value_counts()"
   ]
  },
  {
   "cell_type": "code",
   "execution_count": 11,
   "metadata": {
    "colab": {},
    "colab_type": "code",
    "id": "hqOYgOHzXDmu"
   },
   "outputs": [],
   "source": [
    "df = train.drop(columns=['EmployeeNo','State_Of_Origin'], axis =1)"
   ]
  },
  {
   "cell_type": "code",
   "execution_count": 12,
   "metadata": {
    "colab": {},
    "colab_type": "code",
    "id": "O0dmZSNUDHBB"
   },
   "outputs": [],
   "source": [
    "def outlier(df,col= 'Year_of_recruitment'):\n",
    "  yor_std = df[col].std()\n",
    "  yor_mean = df[col].mean()\n",
    "  yor_cutoff = yor_std*3\n",
    "  yor_lower, yor_upper = yor_mean - yor_cutoff, yor_mean + yor_cutoff\n",
    "  yor_trimmed = df[(df[col]<yor_upper)&(df[col]>yor_lower)]\n",
    "  return yor_trimmed"
   ]
  },
  {
   "cell_type": "code",
   "execution_count": 13,
   "metadata": {
    "colab": {},
    "colab_type": "code",
    "id": "8K9NiwZZGkEL"
   },
   "outputs": [],
   "source": [
    "# tes_to_tribe={\n",
    "#     'ABIA': \"IGBO\",\n",
    "#     'ADAMAWA':\"HAUSA\",\n",
    "#     'AKWA IBOM':\"IGBO\",\n",
    "#     'ANAMBRA':\"IGBO\",\n",
    "#     'BAUCHI':\"IGBO\",\n",
    "#     'BAYELSA':\"IGBO\",\n",
    "#     'BENUE':\"HAUSA\",\n",
    "#     'BORNO':\"HAUSA\",\n",
    "#     'CROSS RIVER':\"IGBO\",\n",
    "#     'DELTA':\"IGBO\",\n",
    "#     'EBONYI':\"IGBO\",\n",
    "#     'EDO':\"IGBO\",\n",
    "#     'EKITI':\"YORUBA\",\n",
    "#     'ENUGU':\"IGBO\",\n",
    "#     'FCT':\"HAUSA\",\n",
    "#     'GOMBE':\"HAUSA\",\n",
    "#     'IMO':\"IGBO\",\n",
    "#     'JIGAWA':\"HAUSA\",\n",
    "#     'KADUNA':\"HAUSA\",\n",
    "#     'KANO':'HAUSA',\n",
    "#     'KATSINA':\"HAUSA\",\n",
    "#     'KEBBI':\"HAUSA\",\n",
    "#     'KOGI':\"HAUSA\",\n",
    "#     'KWARA':\"HAUSA\",\n",
    "#     \"LAGOS\":\"YORUBA\",\n",
    "#     'NASSARAWA':\"HAUSA\",\n",
    "#     'NIGER':\"HAUSA\",\n",
    "#      'OGUN':\"YORUBA\",\n",
    "#      'ONDO':\"YORUBA\",\n",
    "#      'OSUN':\"YORUBA\",\n",
    "#      'OYO':\"YORUBA\",\n",
    "#      'PLATEAU':\"HAUSA\",\n",
    "#      'RIVERS':\"IGBO\",\n",
    "#      'SOKOTO':\"HAUSA\",\n",
    "#      'TARABA':\"HAUSA\",\n",
    "#      'YOBE':\"HAUSA\",\n",
    "#      'ZAMFARA':\"HAUSA\""
   ]
  },
  {
   "cell_type": "code",
   "execution_count": 14,
   "metadata": {
    "colab": {},
    "colab_type": "code",
    "id": "myvHI2M4J8Yj"
   },
   "outputs": [],
   "source": [
    "df = outlier(df, col= 'Year_of_recruitment')\n",
    "# df = outlier(df, col= )"
   ]
  },
  {
   "cell_type": "code",
   "execution_count": 15,
   "metadata": {
    "colab": {},
    "colab_type": "code",
    "id": "ZFn-VMTfYZ0p"
   },
   "outputs": [],
   "source": [
    "# newvar = df['Trainings_Attended'].value_counts()\n",
    "# mask = df['Trainings_Attended'].isin(newvar[newvar<100].index)\n",
    "# df['Trainings_Attended'] [mask] = 'others'"
   ]
  },
  {
   "cell_type": "code",
   "execution_count": 16,
   "metadata": {
    "colab": {},
    "colab_type": "code",
    "id": "h2G2xpNTgPJt"
   },
   "outputs": [],
   "source": [
    "by = df['Promoted_or_Not']"
   ]
  },
  {
   "cell_type": "code",
   "execution_count": 17,
   "metadata": {
    "colab": {
     "base_uri": "https://localhost:8080/",
     "height": 287
    },
    "colab_type": "code",
    "id": "8rP0WFpJYvGL",
    "outputId": "4614c97d-7981-4232-e1e3-8a61560d07df"
   },
   "outputs": [
    {
     "data": {
      "text/html": [
       "<div>\n",
       "<style scoped>\n",
       "    .dataframe tbody tr th:only-of-type {\n",
       "        vertical-align: middle;\n",
       "    }\n",
       "\n",
       "    .dataframe tbody tr th {\n",
       "        vertical-align: top;\n",
       "    }\n",
       "\n",
       "    .dataframe thead th {\n",
       "        text-align: right;\n",
       "    }\n",
       "</style>\n",
       "<table border=\"1\" class=\"dataframe\">\n",
       "  <thead>\n",
       "    <tr style=\"text-align: right;\">\n",
       "      <th></th>\n",
       "      <th>Trainings_Attended</th>\n",
       "      <th>Year_of_birth</th>\n",
       "      <th>Year_of_recruitment</th>\n",
       "      <th>Training_score_average</th>\n",
       "      <th>Promoted_or_Not</th>\n",
       "    </tr>\n",
       "  </thead>\n",
       "  <tbody>\n",
       "    <tr>\n",
       "      <td>count</td>\n",
       "      <td>37635.000000</td>\n",
       "      <td>37635.000000</td>\n",
       "      <td>37635.000000</td>\n",
       "      <td>37635.000000</td>\n",
       "      <td>37635.000000</td>\n",
       "    </tr>\n",
       "    <tr>\n",
       "      <td>mean</td>\n",
       "      <td>2.255055</td>\n",
       "      <td>1986.520818</td>\n",
       "      <td>2013.436482</td>\n",
       "      <td>55.374837</td>\n",
       "      <td>0.084868</td>\n",
       "    </tr>\n",
       "    <tr>\n",
       "      <td>std</td>\n",
       "      <td>0.610721</td>\n",
       "      <td>7.326340</td>\n",
       "      <td>3.638399</td>\n",
       "      <td>13.382201</td>\n",
       "      <td>0.278689</td>\n",
       "    </tr>\n",
       "    <tr>\n",
       "      <td>min</td>\n",
       "      <td>2.000000</td>\n",
       "      <td>1955.000000</td>\n",
       "      <td>2001.000000</td>\n",
       "      <td>31.000000</td>\n",
       "      <td>0.000000</td>\n",
       "    </tr>\n",
       "    <tr>\n",
       "      <td>25%</td>\n",
       "      <td>2.000000</td>\n",
       "      <td>1983.000000</td>\n",
       "      <td>2012.000000</td>\n",
       "      <td>43.000000</td>\n",
       "      <td>0.000000</td>\n",
       "    </tr>\n",
       "    <tr>\n",
       "      <td>50%</td>\n",
       "      <td>2.000000</td>\n",
       "      <td>1988.000000</td>\n",
       "      <td>2014.000000</td>\n",
       "      <td>52.000000</td>\n",
       "      <td>0.000000</td>\n",
       "    </tr>\n",
       "    <tr>\n",
       "      <td>75%</td>\n",
       "      <td>2.000000</td>\n",
       "      <td>1992.000000</td>\n",
       "      <td>2016.000000</td>\n",
       "      <td>68.000000</td>\n",
       "      <td>0.000000</td>\n",
       "    </tr>\n",
       "    <tr>\n",
       "      <td>max</td>\n",
       "      <td>11.000000</td>\n",
       "      <td>2001.000000</td>\n",
       "      <td>2018.000000</td>\n",
       "      <td>91.000000</td>\n",
       "      <td>1.000000</td>\n",
       "    </tr>\n",
       "  </tbody>\n",
       "</table>\n",
       "</div>"
      ],
      "text/plain": [
       "       Trainings_Attended  Year_of_birth  Year_of_recruitment  \\\n",
       "count        37635.000000   37635.000000         37635.000000   \n",
       "mean             2.255055    1986.520818          2013.436482   \n",
       "std              0.610721       7.326340             3.638399   \n",
       "min              2.000000    1955.000000          2001.000000   \n",
       "25%              2.000000    1983.000000          2012.000000   \n",
       "50%              2.000000    1988.000000          2014.000000   \n",
       "75%              2.000000    1992.000000          2016.000000   \n",
       "max             11.000000    2001.000000          2018.000000   \n",
       "\n",
       "       Training_score_average  Promoted_or_Not  \n",
       "count            37635.000000     37635.000000  \n",
       "mean                55.374837         0.084868  \n",
       "std                 13.382201         0.278689  \n",
       "min                 31.000000         0.000000  \n",
       "25%                 43.000000         0.000000  \n",
       "50%                 52.000000         0.000000  \n",
       "75%                 68.000000         0.000000  \n",
       "max                 91.000000         1.000000  "
      ]
     },
     "execution_count": 17,
     "metadata": {},
     "output_type": "execute_result"
    }
   ],
   "source": [
    "df.describe()"
   ]
  },
  {
   "cell_type": "code",
   "execution_count": 18,
   "metadata": {
    "colab": {},
    "colab_type": "code",
    "id": "cGNKPwuPazvt"
   },
   "outputs": [],
   "source": [
    "s_split = StratifiedShuffleSplit(n_splits=1, test_size=0.2, random_state=42)\n",
    "\n",
    "for train_index, test_index in s_split.split(df, by):\n",
    "    strat_train_set = df.iloc[train_index]\n",
    "    strat_test_set = df.iloc[test_index]"
   ]
  },
  {
   "cell_type": "code",
   "execution_count": 19,
   "metadata": {
    "colab": {},
    "colab_type": "code",
    "id": "iFchnUhShUfP"
   },
   "outputs": [],
   "source": [
    "def train_val_set(dataset, y):\n",
    "    y_set = dataset[y].copy()\n",
    "    X_set = dataset.drop(y,axis=1)\n",
    "    \n",
    "    return X_set, y_set"
   ]
  },
  {
   "cell_type": "code",
   "execution_count": 20,
   "metadata": {
    "colab": {},
    "colab_type": "code",
    "id": "JBzpTxn8iCjT"
   },
   "outputs": [],
   "source": [
    "train_feature, train_label = train_val_set(strat_train_set, 'Promoted_or_Not')\n",
    "val_feature, val_label = train_val_set(strat_test_set, 'Promoted_or_Not')"
   ]
  },
  {
   "cell_type": "code",
   "execution_count": 21,
   "metadata": {
    "colab": {},
    "colab_type": "code",
    "id": "kzI_FR4tia9q"
   },
   "outputs": [],
   "source": [
    "def num_cat_vals(dataframe):\n",
    "    num_vals = dataframe.select_dtypes(include=['float64','int64'])\n",
    "    cat_vals = dataframe.select_dtypes(include='category')\n",
    "    return cat_vals, num_vals"
   ]
  },
  {
   "cell_type": "code",
   "execution_count": 22,
   "metadata": {
    "colab": {},
    "colab_type": "code",
    "id": "QlzxlxB5i347"
   },
   "outputs": [],
   "source": [
    "cat_vals, num_vals = num_cat_vals(train_feature)"
   ]
  },
  {
   "cell_type": "code",
   "execution_count": 23,
   "metadata": {
    "colab": {},
    "colab_type": "code",
    "id": "Q0s6EsOS3iGe"
   },
   "outputs": [],
   "source": [
    "Year_of_recruitment_ix, Training_score_average_ix = [\n",
    "    list(num_vals.columns).index(col)\n",
    "    for col in ['Year_of_recruitment','Training_score_average']]\n",
    "\n",
    "\n",
    "class Add_Extra_Features(BaseEstimator, TransformerMixin):\n",
    "    def __init__(self, name =False):\n",
    "        self.name = name\n",
    "    def fit(self, X, y=None):\n",
    "        return self\n",
    "    def transform(self, X, y=None):\n",
    "        yor_per_tsa = X.iloc[:, Year_of_recruitment_ix] / X.iloc[:, Training_score_average_ix]\n",
    "        return np.c_[X, yor_per_tsa]"
   ]
  },
  {
   "cell_type": "code",
   "execution_count": 24,
   "metadata": {
    "colab": {},
    "colab_type": "code",
    "id": "HmsKekzHkEYF"
   },
   "outputs": [],
   "source": [
    "num_pipeline = Pipeline([\n",
    "     ('new_attrib', Add_Extra_Features(name =False)),\n",
    "     ('standard', StandardScaler()),\n",
    "#      ('poly', PolynomialFeatures(degree=3))\n",
    "    ])\n",
    "cat_fill =  Pipeline([\n",
    "     ('imputer', SimpleImputer(strategy=\"most_frequent\")),\n",
    "     ('one_hot', OneHotEncoder(sparse=False))\n",
    "])"
   ]
  },
  {
   "cell_type": "code",
   "execution_count": 25,
   "metadata": {
    "colab": {},
    "colab_type": "code",
    "id": "rp56QsN3jW1h"
   },
   "outputs": [],
   "source": [
    "num_ = list(num_vals.columns)\n",
    "cat_one = ['Targets_met','Previous_Award','Previous_IntraDepartmental_Movement','Past_Disciplinary_Action','Foreign_schooled']\n",
    "cat_two = ['Division','Gender','Marital_Status','Last_performance_score','No_of_previous_employers','Channel_of_Recruitment','Trainings_Attended','Qualification']\n",
    "\n",
    "full_pipeline = ColumnTransformer([\n",
    "    ('num_trans', num_pipeline, num_),\n",
    "    ('cat_label', OrdinalEncoder(), cat_one),\n",
    "    ('cat_one_hot', cat_fill, cat_two),\n",
    "])\n",
    "\n",
    "pipeline_X = full_pipeline.fit_transform(train_feature)"
   ]
  },
  {
   "cell_type": "code",
   "execution_count": 26,
   "metadata": {
    "colab": {
     "base_uri": "https://localhost:8080/",
     "height": 34
    },
    "colab_type": "code",
    "id": "hRhdMqqmlGJb",
    "outputId": "9dbfe430-abc0-490c-af3b-04e758c2ee8c"
   },
   "outputs": [
    {
     "data": {
      "text/plain": [
       "(7527, 53)"
      ]
     },
     "execution_count": 26,
     "metadata": {},
     "output_type": "execute_result"
    }
   ],
   "source": [
    "pipeline_v = full_pipeline.transform(val_feature)\n",
    "pipeline_v.shape"
   ]
  },
  {
   "cell_type": "code",
   "execution_count": 27,
   "metadata": {
    "colab": {
     "base_uri": "https://localhost:8080/",
     "height": 34
    },
    "colab_type": "code",
    "id": "vNtnjkwUma6W",
    "outputId": "544746ad-dee9-4be5-f420-8e33fd4bbb8f"
   },
   "outputs": [
    {
     "data": {
      "text/plain": [
       "(30108, 53)"
      ]
     },
     "execution_count": 27,
     "metadata": {},
     "output_type": "execute_result"
    }
   ],
   "source": [
    "pipeline_X.shape"
   ]
  },
  {
   "cell_type": "code",
   "execution_count": 28,
   "metadata": {
    "colab": {
     "base_uri": "https://localhost:8080/",
     "height": 247
    },
    "colab_type": "code",
    "id": "IGUc2AsLtxqp",
    "outputId": "7e72e101-04f9-4197-c4a8-e53965b98094"
   },
   "outputs": [
    {
     "data": {
      "text/plain": [
       "array([[-0.4183091 , -0.48051514, -0.39595474, ...,  0.        ,\n",
       "         1.        ,  0.        ],\n",
       "       [-0.4183091 ,  1.1572517 ,  0.15355805, ...,  0.        ,\n",
       "         0.        ,  1.        ],\n",
       "       [-0.4183091 , -2.66420426, -2.59400591, ...,  0.        ,\n",
       "         1.        ,  0.        ],\n",
       "       ...,\n",
       "       [-0.4183091 ,  0.74780999, -0.12119834, ...,  1.        ,\n",
       "         0.        ,  0.        ],\n",
       "       [-0.4183091 ,  1.1572517 ,  0.97782724, ...,  1.        ,\n",
       "         0.        ,  0.        ],\n",
       "       [-0.4183091 , -0.88995685, -0.39595474, ...,  1.        ,\n",
       "         0.        ,  0.        ]])"
      ]
     },
     "execution_count": 28,
     "metadata": {},
     "output_type": "execute_result"
    }
   ],
   "source": [
    "pipeline_X"
   ]
  },
  {
   "cell_type": "code",
   "execution_count": null,
   "metadata": {
    "colab": {},
    "colab_type": "code",
    "id": "5eYhLBJAmpJN"
   },
   "outputs": [],
   "source": [
    "model = Pipeline([\n",
    "        ('sampling', ADASYN(random_state=42)),\n",
    "        ('classification', XGBClassifier(objective ='binary:hinge', \n",
    "                                         silent=False,\n",
    "                                         scale_pos_weight=1,\n",
    "                                         learning_rate = 0.01,\n",
    "                                         subsample = 1.0,\n",
    "                                         n_estimators=5000, \n",
    "                                         max_depth=16, \n",
    "                                         booster = 'dart',\n",
    "                                         colsample_bytree = 0.6,\n",
    "                                         reg_alpha = 0.28,\n",
    "                                         gamma=0.4))\n",
    "                                         ])\n",
    "                      \n",
    "model.fit(pipeline_X, train_label)"
   ]
  },
  {
   "cell_type": "code",
   "execution_count": null,
   "metadata": {
    "colab": {},
    "colab_type": "code",
    "id": "YO2rSqaDnMRK"
   },
   "outputs": [],
   "source": [
    "y_pred = model.predict(pipeline_X)\n",
    "model.score(pipeline_X, train_label)"
   ]
  },
  {
   "cell_type": "code",
   "execution_count": null,
   "metadata": {
    "colab": {},
    "colab_type": "code",
    "id": "SxP6CXHenYbT"
   },
   "outputs": [],
   "source": [
    "accuracy = accuracy_score(train_label.astype(int), y_pred.astype(int))\n",
    "accuracy"
   ]
  },
  {
   "cell_type": "code",
   "execution_count": null,
   "metadata": {
    "colab": {},
    "colab_type": "code",
    "id": "BKJ9OR7IJ72m"
   },
   "outputs": [],
   "source": [
    "confusion_matrix(train_label, y_pred)"
   ]
  },
  {
   "cell_type": "code",
   "execution_count": null,
   "metadata": {
    "colab": {},
    "colab_type": "code",
    "id": "XqcTqd4Dnh4S"
   },
   "outputs": [],
   "source": [
    "cl = classification_report(train_label.astype(int), y_pred.astype(int))\n",
    "print(cl)"
   ]
  },
  {
   "cell_type": "code",
   "execution_count": null,
   "metadata": {
    "colab": {},
    "colab_type": "code",
    "id": "_xcT0JG-olJ-"
   },
   "outputs": [],
   "source": [
    "y_v_pred = model.predict(pipeline_v)\n",
    "y_v_pred"
   ]
  },
  {
   "cell_type": "code",
   "execution_count": null,
   "metadata": {
    "colab": {},
    "colab_type": "code",
    "id": "sm0WXQpFyHSc"
   },
   "outputs": [],
   "source": [
    "accuracy = accuracy_score(val_label.astype(int), y_v_pred.astype(int))\n",
    "accuracy"
   ]
  },
  {
   "cell_type": "code",
   "execution_count": null,
   "metadata": {
    "colab": {},
    "colab_type": "code",
    "id": "1nVsjf67J9-Q"
   },
   "outputs": [],
   "source": [
    "confusion_matrix(val_label, y_v_pred)"
   ]
  },
  {
   "cell_type": "code",
   "execution_count": null,
   "metadata": {
    "colab": {},
    "colab_type": "code",
    "id": "3eBPY_R4PI9p"
   },
   "outputs": [],
   "source": [
    "f1 = f1_score(val_label.astype(int), y_v_pred.astype(int))\n",
    "f1"
   ]
  },
  {
   "cell_type": "code",
   "execution_count": null,
   "metadata": {
    "colab": {},
    "colab_type": "code",
    "id": "J69A4jhjpRHz"
   },
   "outputs": [],
   "source": [
    "cl = classification_report(val_label.astype(int), y_v_pred.astype(int))\n",
    "print(cl)"
   ]
  },
  {
   "cell_type": "code",
   "execution_count": null,
   "metadata": {
    "colab": {
     "base_uri": "https://localhost:8080/",
     "height": 34
    },
    "colab_type": "code",
    "id": "z5e7Nu4Rrnj4",
    "outputId": "815e99f0-3161-40ab-bd30-65031fd1c24d"
   },
   "outputs": [],
   "source": [
    "pipe_test = full_pipeline.transform(test)\n",
    "pipe_test.shape"
   ]
  },
  {
   "cell_type": "code",
   "execution_count": null,
   "metadata": {
    "colab": {},
    "colab_type": "code",
    "id": "9MUQryrgpazX"
   },
   "outputs": [],
   "source": [
    " test_pred = model.predict(pipe_test)"
   ]
  },
  {
   "cell_type": "code",
   "execution_count": null,
   "metadata": {
    "colab": {
     "base_uri": "https://localhost:8080/",
     "height": 197
    },
    "colab_type": "code",
    "id": "3V6__S2fqIy7",
    "outputId": "f1c89af2-3329-45cd-ba83-a0124705f4d7"
   },
   "outputs": [],
   "source": [
    "df_sub = pd.DataFrame()\n",
    "df_sub['EmployeeNo']  = test_['EmployeeNo']\n",
    "df_sub['Promoted_or_Not'] = test_pred\n",
    "df_sub.head()"
   ]
  },
  {
   "cell_type": "code",
   "execution_count": null,
   "metadata": {
    "colab": {},
    "colab_type": "code",
    "id": "4KM7zD4_r_XV"
   },
   "outputs": [],
   "source": [
    "df_sub.to_csv(\"xgb_11_ho.csv\", index=False)"
   ]
  }
 ],
 "metadata": {
  "accelerator": "TPU",
  "colab": {
   "collapsed_sections": [],
   "name": "DSN_bootcamp.ipynb",
   "provenance": []
  },
  "kernelspec": {
   "display_name": "Python 3",
   "language": "python",
   "name": "python3"
  },
  "language_info": {
   "codemirror_mode": {
    "name": "ipython",
    "version": 3
   },
   "file_extension": ".py",
   "mimetype": "text/x-python",
   "name": "python",
   "nbconvert_exporter": "python",
   "pygments_lexer": "ipython3",
   "version": "3.7.4"
  }
 },
 "nbformat": 4,
 "nbformat_minor": 1
}
