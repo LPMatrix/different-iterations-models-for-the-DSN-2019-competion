{
  "nbformat": 4,
  "nbformat_minor": 0,
  "metadata": {
    "colab": {
      "name": "DSN_bootcamp.ipynb",
      "provenance": [],
      "collapsed_sections": []
    },
    "kernelspec": {
      "name": "python3",
      "display_name": "Python 3"
    },
    "accelerator": "TPU"
  },
  "cells": [
    {
      "cell_type": "code",
      "metadata": {
        "id": "Ln0uickxElYZ",
        "colab_type": "code",
        "outputId": "c5a7d527-c642-448b-adcc-637dcb57edde",
        "colab": {
          "base_uri": "https://localhost:8080/",
          "height": 72
        }
      },
      "source": [
        "%matplotlib inline\n",
        "import matplotlib.pyplot as plt\n",
        "import pandas_profiling\n",
        "import pandas as pd\n",
        "import numpy as np\n",
        "from numpy import sort\n",
        "import seaborn as sns\n",
        "from sklearn.impute import SimpleImputer\n",
        "from sklearn.preprocessing import OneHotEncoder,StandardScaler,OrdinalEncoder,PolynomialFeatures\n",
        "from sklearn.model_selection import cross_val_score, cross_val_predict,RandomizedSearchCV\n",
        "from sklearn.model_selection import StratifiedShuffleSplit\n",
        "from sklearn.compose import ColumnTransformer\n",
        "from sklearn.base import BaseEstimator, TransformerMixin\n",
        "from sklearn.pipeline import Pipeline\n",
        "from sklearn.ensemble import  RandomForestClassifier\n",
        "from xgboost import XGBClassifier, plot_importance\n",
        "from imblearn.over_sampling import SMOTE\n",
        "from imblearn.pipeline import Pipeline\n",
        "from sklearn.metrics import classification_report, accuracy_score\n",
        "from sklearn.metrics import precision_score, recall_score, f1_score,confusion_matrix\n",
        "from imblearn.pipeline import Pipeline\n",
        "from sklearn.feature_selection import SelectFromModel\n",
        "from lightgbm import LGBMClassifier\n",
        "from imblearn.over_sampling import ADASYN"
      ],
      "execution_count": 1,
      "outputs": [
        {
          "output_type": "stream",
          "text": [
            "/usr/local/lib/python3.6/dist-packages/sklearn/externals/six.py:31: DeprecationWarning: The module is deprecated in version 0.21 and will be removed in version 0.23 since we've dropped support for Python 2.7. Please rely on the official version of six (https://pypi.org/project/six/).\n",
            "  \"(https://pypi.org/project/six/).\", DeprecationWarning)\n"
          ],
          "name": "stderr"
        }
      ]
    },
    {
      "cell_type": "code",
      "metadata": {
        "id": "-ElM5rFNHw8C",
        "colab_type": "code",
        "outputId": "9c023ed3-3530-4005-aa0b-eaf2aabe267d",
        "colab": {
          "base_uri": "https://localhost:8080/",
          "height": 401
        }
      },
      "source": [
        "train = pd.read_csv('train.csv.zip')\n",
        "train.head()"
      ],
      "execution_count": 2,
      "outputs": [
        {
          "output_type": "execute_result",
          "data": {
            "text/html": [
              "<div>\n",
              "<style scoped>\n",
              "    .dataframe tbody tr th:only-of-type {\n",
              "        vertical-align: middle;\n",
              "    }\n",
              "\n",
              "    .dataframe tbody tr th {\n",
              "        vertical-align: top;\n",
              "    }\n",
              "\n",
              "    .dataframe thead th {\n",
              "        text-align: right;\n",
              "    }\n",
              "</style>\n",
              "<table border=\"1\" class=\"dataframe\">\n",
              "  <thead>\n",
              "    <tr style=\"text-align: right;\">\n",
              "      <th></th>\n",
              "      <th>EmployeeNo</th>\n",
              "      <th>Division</th>\n",
              "      <th>Qualification</th>\n",
              "      <th>Gender</th>\n",
              "      <th>Channel_of_Recruitment</th>\n",
              "      <th>Trainings_Attended</th>\n",
              "      <th>Year_of_birth</th>\n",
              "      <th>Last_performance_score</th>\n",
              "      <th>Year_of_recruitment</th>\n",
              "      <th>Targets_met</th>\n",
              "      <th>Previous_Award</th>\n",
              "      <th>Training_score_average</th>\n",
              "      <th>State_Of_Origin</th>\n",
              "      <th>Foreign_schooled</th>\n",
              "      <th>Marital_Status</th>\n",
              "      <th>Past_Disciplinary_Action</th>\n",
              "      <th>Previous_IntraDepartmental_Movement</th>\n",
              "      <th>No_of_previous_employers</th>\n",
              "      <th>Promoted_or_Not</th>\n",
              "    </tr>\n",
              "  </thead>\n",
              "  <tbody>\n",
              "    <tr>\n",
              "      <th>0</th>\n",
              "      <td>YAK/S/00001</td>\n",
              "      <td>Commercial Sales and Marketing</td>\n",
              "      <td>MSc, MBA and PhD</td>\n",
              "      <td>Female</td>\n",
              "      <td>Direct Internal process</td>\n",
              "      <td>2</td>\n",
              "      <td>1986</td>\n",
              "      <td>12.5</td>\n",
              "      <td>2011</td>\n",
              "      <td>1</td>\n",
              "      <td>0</td>\n",
              "      <td>41</td>\n",
              "      <td>ANAMBRA</td>\n",
              "      <td>No</td>\n",
              "      <td>Married</td>\n",
              "      <td>No</td>\n",
              "      <td>No</td>\n",
              "      <td>0</td>\n",
              "      <td>0</td>\n",
              "    </tr>\n",
              "    <tr>\n",
              "      <th>1</th>\n",
              "      <td>YAK/S/00002</td>\n",
              "      <td>Customer Support and Field Operations</td>\n",
              "      <td>First Degree or HND</td>\n",
              "      <td>Male</td>\n",
              "      <td>Agency and others</td>\n",
              "      <td>2</td>\n",
              "      <td>1991</td>\n",
              "      <td>12.5</td>\n",
              "      <td>2015</td>\n",
              "      <td>0</td>\n",
              "      <td>0</td>\n",
              "      <td>52</td>\n",
              "      <td>ANAMBRA</td>\n",
              "      <td>Yes</td>\n",
              "      <td>Married</td>\n",
              "      <td>No</td>\n",
              "      <td>No</td>\n",
              "      <td>0</td>\n",
              "      <td>0</td>\n",
              "    </tr>\n",
              "    <tr>\n",
              "      <th>2</th>\n",
              "      <td>YAK/S/00003</td>\n",
              "      <td>Commercial Sales and Marketing</td>\n",
              "      <td>First Degree or HND</td>\n",
              "      <td>Male</td>\n",
              "      <td>Direct Internal process</td>\n",
              "      <td>2</td>\n",
              "      <td>1987</td>\n",
              "      <td>7.5</td>\n",
              "      <td>2012</td>\n",
              "      <td>0</td>\n",
              "      <td>0</td>\n",
              "      <td>42</td>\n",
              "      <td>KATSINA</td>\n",
              "      <td>Yes</td>\n",
              "      <td>Married</td>\n",
              "      <td>No</td>\n",
              "      <td>No</td>\n",
              "      <td>0</td>\n",
              "      <td>0</td>\n",
              "    </tr>\n",
              "    <tr>\n",
              "      <th>3</th>\n",
              "      <td>YAK/S/00004</td>\n",
              "      <td>Commercial Sales and Marketing</td>\n",
              "      <td>First Degree or HND</td>\n",
              "      <td>Male</td>\n",
              "      <td>Agency and others</td>\n",
              "      <td>3</td>\n",
              "      <td>1982</td>\n",
              "      <td>2.5</td>\n",
              "      <td>2009</td>\n",
              "      <td>0</td>\n",
              "      <td>0</td>\n",
              "      <td>42</td>\n",
              "      <td>NIGER</td>\n",
              "      <td>Yes</td>\n",
              "      <td>Single</td>\n",
              "      <td>No</td>\n",
              "      <td>No</td>\n",
              "      <td>1</td>\n",
              "      <td>0</td>\n",
              "    </tr>\n",
              "    <tr>\n",
              "      <th>4</th>\n",
              "      <td>YAK/S/00006</td>\n",
              "      <td>Information and Strategy</td>\n",
              "      <td>First Degree or HND</td>\n",
              "      <td>Male</td>\n",
              "      <td>Direct Internal process</td>\n",
              "      <td>3</td>\n",
              "      <td>1990</td>\n",
              "      <td>7.5</td>\n",
              "      <td>2012</td>\n",
              "      <td>0</td>\n",
              "      <td>0</td>\n",
              "      <td>77</td>\n",
              "      <td>AKWA IBOM</td>\n",
              "      <td>Yes</td>\n",
              "      <td>Married</td>\n",
              "      <td>No</td>\n",
              "      <td>No</td>\n",
              "      <td>1</td>\n",
              "      <td>0</td>\n",
              "    </tr>\n",
              "  </tbody>\n",
              "</table>\n",
              "</div>"
            ],
            "text/plain": [
              "    EmployeeNo  ... Promoted_or_Not\n",
              "0  YAK/S/00001  ...               0\n",
              "1  YAK/S/00002  ...               0\n",
              "2  YAK/S/00003  ...               0\n",
              "3  YAK/S/00004  ...               0\n",
              "4  YAK/S/00006  ...               0\n",
              "\n",
              "[5 rows x 19 columns]"
            ]
          },
          "metadata": {
            "tags": []
          },
          "execution_count": 2
        }
      ]
    },
    {
      "cell_type": "code",
      "metadata": {
        "id": "fPoZfeGiICEi",
        "colab_type": "code",
        "colab": {}
      },
      "source": [
        "test_ = pd.read_csv('test.csv.zip')"
      ],
      "execution_count": 0,
      "outputs": []
    },
    {
      "cell_type": "code",
      "metadata": {
        "id": "-badRi-TsY10",
        "colab_type": "code",
        "colab": {}
      },
      "source": [
        "test = test_.drop(columns=['EmployeeNo', 'State_Of_Origin'])"
      ],
      "execution_count": 0,
      "outputs": []
    },
    {
      "cell_type": "code",
      "metadata": {
        "id": "4H86x_m0IbV5",
        "colab_type": "code",
        "outputId": "4addcbfa-17ce-49c8-fb31-4a09f07770bf",
        "colab": {
          "base_uri": "https://localhost:8080/",
          "height": 443
        }
      },
      "source": [
        "train.info()"
      ],
      "execution_count": 5,
      "outputs": [
        {
          "output_type": "stream",
          "text": [
            "<class 'pandas.core.frame.DataFrame'>\n",
            "RangeIndex: 38312 entries, 0 to 38311\n",
            "Data columns (total 19 columns):\n",
            "EmployeeNo                             38312 non-null object\n",
            "Division                               38312 non-null object\n",
            "Qualification                          36633 non-null object\n",
            "Gender                                 38312 non-null object\n",
            "Channel_of_Recruitment                 38312 non-null object\n",
            "Trainings_Attended                     38312 non-null int64\n",
            "Year_of_birth                          38312 non-null int64\n",
            "Last_performance_score                 38312 non-null float64\n",
            "Year_of_recruitment                    38312 non-null int64\n",
            "Targets_met                            38312 non-null int64\n",
            "Previous_Award                         38312 non-null int64\n",
            "Training_score_average                 38312 non-null int64\n",
            "State_Of_Origin                        38312 non-null object\n",
            "Foreign_schooled                       38312 non-null object\n",
            "Marital_Status                         38312 non-null object\n",
            "Past_Disciplinary_Action               38312 non-null object\n",
            "Previous_IntraDepartmental_Movement    38312 non-null object\n",
            "No_of_previous_employers               38312 non-null object\n",
            "Promoted_or_Not                        38312 non-null int64\n",
            "dtypes: float64(1), int64(7), object(11)\n",
            "memory usage: 5.6+ MB\n"
          ],
          "name": "stdout"
        }
      ]
    },
    {
      "cell_type": "code",
      "metadata": {
        "id": "XoTupCy5L99s",
        "colab_type": "code",
        "outputId": "39208114-7dd1-4471-e028-af231999a1c8",
        "colab": {
          "base_uri": "https://localhost:8080/",
          "height": 301
        }
      },
      "source": [
        "print(train['Division'].unique())\n",
        "print(train['Qualification'].unique())\n",
        "print(train['Channel_of_Recruitment'].unique())\n",
        "print(train['State_Of_Origin'].unique())\n",
        "print(train['Marital_Status'].unique())\n",
        "print(train['No_of_previous_employers'].unique())\n",
        "print(train['Last_performance_score'].unique())"
      ],
      "execution_count": 6,
      "outputs": [
        {
          "output_type": "stream",
          "text": [
            "['Commercial Sales and Marketing' 'Customer Support and Field Operations'\n",
            " 'Information and Strategy' 'Information Technology and Solution Support'\n",
            " 'Sourcing and Purchasing' 'Business Finance Operations'\n",
            " 'People/HR Management' 'Research and Innovation'\n",
            " 'Regulatory and Legal services']\n",
            "['MSc, MBA and PhD' 'First Degree or HND' nan 'Non-University Education']\n",
            "['Direct Internal process' 'Agency and others'\n",
            " 'Referral and Special candidates']\n",
            "['ANAMBRA' 'KATSINA' 'NIGER' 'AKWA IBOM' 'ENUGU' 'OYO' 'LAGOS' 'ONDO'\n",
            " 'KWARA' 'EDO' 'BAUCHI' 'TARABA' 'RIVERS' 'KADUNA' 'PLATEAU' 'EKITI'\n",
            " 'BORNO' 'IMO' 'CROSS RIVER' 'KANO' 'FCT' 'OGUN' 'GOMBE' 'DELTA' 'BENUE'\n",
            " 'ZAMFARA' 'OSUN' 'ABIA' 'KEBBI' 'ADAMAWA' 'NASSARAWA' 'SOKOTO' 'KOGI'\n",
            " 'JIGAWA' 'BAYELSA' 'YOBE' 'EBONYI']\n",
            "['Married' 'Single' 'Not_Sure']\n",
            "['0' '1' '4' '3' '2' 'More than 5' '5']\n",
            "[12.5  7.5  2.5 10.   0.   5. ]\n"
          ],
          "name": "stdout"
        }
      ]
    },
    {
      "cell_type": "code",
      "metadata": {
        "id": "IGxjgvcbMaxl",
        "colab_type": "code",
        "colab": {}
      },
      "source": [
        "train = train.astype({'Division':'category', 'Qualification':'category',\n",
        "                'Gender':'category', 'Channel_of_Recruitment':'category', \n",
        "                'State_Of_Origin':'category', 'Foreign_schooled':'category',\n",
        "                'Marital_Status':'category', 'Past_Disciplinary_Action':'category',\n",
        "                'Previous_IntraDepartmental_Movement':'category', 'No_of_previous_employers':'category',\n",
        "                'Targets_met':'category', 'Previous_Award':'category', 'Last_performance_score':'category'})"
      ],
      "execution_count": 0,
      "outputs": []
    },
    {
      "cell_type": "code",
      "metadata": {
        "id": "hCsmt53V4WQp",
        "colab_type": "code",
        "colab": {}
      },
      "source": [
        "# pandas_profiling.ProfileReport(train)"
      ],
      "execution_count": 0,
      "outputs": []
    },
    {
      "cell_type": "code",
      "metadata": {
        "id": "uBeM9mTZSZNy",
        "colab_type": "code",
        "outputId": "7b1d1efd-bd1e-431c-9a2a-a1fc6fe551df",
        "colab": {
          "base_uri": "https://localhost:8080/",
          "height": 70
        }
      },
      "source": [
        "target_count = train['Promoted_or_Not'].value_counts()\n",
        "print('Class 0:', target_count[0])\n",
        "print('Class 1:', target_count[1])\n",
        "print('Proportion:', round(target_count[0] / target_count[1], 2), ': 1')\n",
        "\n",
        "target_count.plot(kind='bar', title='Count (target)');"
      ],
      "execution_count": 9,
      "outputs": [
        {
          "output_type": "stream",
          "text": [
            "Class 0: 35071\n",
            "Class 1: 3241\n",
            "Proportion: 10.82 : 1\n"
          ],
          "name": "stdout"
        }
      ]
    },
    {
      "cell_type": "code",
      "metadata": {
        "id": "h3viK9CL6rNA",
        "colab_type": "code",
        "outputId": "f113a7dc-8ece-4c02-ab7b-1b456a08b49b",
        "colab": {
          "base_uri": "https://localhost:8080/",
          "height": 212
        }
      },
      "source": [
        "train['Trainings_Attended'].value_counts()"
      ],
      "execution_count": 10,
      "outputs": [
        {
          "output_type": "execute_result",
          "data": {
            "text/plain": [
              "2     30981\n",
              "3      5631\n",
              "4      1244\n",
              "5       316\n",
              "6        93\n",
              "7        28\n",
              "8         6\n",
              "10        5\n",
              "11        4\n",
              "9         4\n",
              "Name: Trainings_Attended, dtype: int64"
            ]
          },
          "metadata": {
            "tags": []
          },
          "execution_count": 10
        }
      ]
    },
    {
      "cell_type": "code",
      "metadata": {
        "id": "hqOYgOHzXDmu",
        "colab_type": "code",
        "colab": {}
      },
      "source": [
        "df = train.drop(columns=['EmployeeNo','State_Of_Origin'], axis =1)"
      ],
      "execution_count": 0,
      "outputs": []
    },
    {
      "cell_type": "code",
      "metadata": {
        "id": "O0dmZSNUDHBB",
        "colab_type": "code",
        "colab": {}
      },
      "source": [
        "def outlier(df,col= 'Year_of_recruitment'):\n",
        "  yor_std = df[col].std()\n",
        "  yor_mean = df[col].mean()\n",
        "  yor_cutoff = yor_std*3\n",
        "  yor_lower, yor_upper = yor_mean - yor_cutoff, yor_mean + yor_cutoff\n",
        "  yor_trimmed = df[(df[col]<yor_upper)&(df[col]>yor_lower)]\n",
        "  return yor_trimmed"
      ],
      "execution_count": 0,
      "outputs": []
    },
    {
      "cell_type": "code",
      "metadata": {
        "id": "8K9NiwZZGkEL",
        "colab_type": "code",
        "colab": {}
      },
      "source": [
        "# tes_to_tribe={\n",
        "#     'ABIA': \"IGBO\",\n",
        "#     'ADAMAWA':\"HAUSA\",\n",
        "#     'AKWA IBOM':\"IGBO\",\n",
        "#     'ANAMBRA':\"IGBO\",\n",
        "#     'BAUCHI':\"IGBO\",\n",
        "#     'BAYELSA':\"IGBO\",\n",
        "#     'BENUE':\"HAUSA\",\n",
        "#     'BORNO':\"HAUSA\",\n",
        "#     'CROSS RIVER':\"IGBO\",\n",
        "#     'DELTA':\"IGBO\",\n",
        "#     'EBONYI':\"IGBO\",\n",
        "#     'EDO':\"IGBO\",\n",
        "#     'EKITI':\"YORUBA\",\n",
        "#     'ENUGU':\"IGBO\",\n",
        "#     'FCT':\"HAUSA\",\n",
        "#     'GOMBE':\"HAUSA\",\n",
        "#     'IMO':\"IGBO\",\n",
        "#     'JIGAWA':\"HAUSA\",\n",
        "#     'KADUNA':\"HAUSA\",\n",
        "#     'KANO':'HAUSA',\n",
        "#     'KATSINA':\"HAUSA\",\n",
        "#     'KEBBI':\"HAUSA\",\n",
        "#     'KOGI':\"HAUSA\",\n",
        "#     'KWARA':\"HAUSA\",\n",
        "#     \"LAGOS\":\"YORUBA\",\n",
        "#     'NASSARAWA':\"HAUSA\",\n",
        "#     'NIGER':\"HAUSA\",\n",
        "#      'OGUN':\"YORUBA\",\n",
        "#      'ONDO':\"YORUBA\",\n",
        "#      'OSUN':\"YORUBA\",\n",
        "#      'OYO':\"YORUBA\",\n",
        "#      'PLATEAU':\"HAUSA\",\n",
        "#      'RIVERS':\"IGBO\",\n",
        "#      'SOKOTO':\"HAUSA\",\n",
        "#      'TARABA':\"HAUSA\",\n",
        "#      'YOBE':\"HAUSA\",\n",
        "#      'ZAMFARA':\"HAUSA\""
      ],
      "execution_count": 0,
      "outputs": []
    },
    {
      "cell_type": "code",
      "metadata": {
        "id": "myvHI2M4J8Yj",
        "colab_type": "code",
        "colab": {}
      },
      "source": [
        "df = outlier(df, col= 'Year_of_recruitment')\n",
        "# df = outlier(df, col= )"
      ],
      "execution_count": 0,
      "outputs": []
    },
    {
      "cell_type": "code",
      "metadata": {
        "id": "ZFn-VMTfYZ0p",
        "colab_type": "code",
        "colab": {}
      },
      "source": [
        "# newvar = df['Trainings_Attended'].value_counts()\n",
        "# mask = df['Trainings_Attended'].isin(newvar[newvar<100].index)\n",
        "# df['Trainings_Attended'] [mask] = 'others'"
      ],
      "execution_count": 0,
      "outputs": []
    },
    {
      "cell_type": "code",
      "metadata": {
        "id": "h2G2xpNTgPJt",
        "colab_type": "code",
        "colab": {}
      },
      "source": [
        "by = df['Promoted_or_Not']"
      ],
      "execution_count": 0,
      "outputs": []
    },
    {
      "cell_type": "code",
      "metadata": {
        "id": "8rP0WFpJYvGL",
        "colab_type": "code",
        "outputId": "4614c97d-7981-4232-e1e3-8a61560d07df",
        "colab": {
          "base_uri": "https://localhost:8080/",
          "height": 287
        }
      },
      "source": [
        "df.describe()"
      ],
      "execution_count": 17,
      "outputs": [
        {
          "output_type": "execute_result",
          "data": {
            "text/html": [
              "<div>\n",
              "<style scoped>\n",
              "    .dataframe tbody tr th:only-of-type {\n",
              "        vertical-align: middle;\n",
              "    }\n",
              "\n",
              "    .dataframe tbody tr th {\n",
              "        vertical-align: top;\n",
              "    }\n",
              "\n",
              "    .dataframe thead th {\n",
              "        text-align: right;\n",
              "    }\n",
              "</style>\n",
              "<table border=\"1\" class=\"dataframe\">\n",
              "  <thead>\n",
              "    <tr style=\"text-align: right;\">\n",
              "      <th></th>\n",
              "      <th>Trainings_Attended</th>\n",
              "      <th>Year_of_birth</th>\n",
              "      <th>Year_of_recruitment</th>\n",
              "      <th>Training_score_average</th>\n",
              "      <th>Promoted_or_Not</th>\n",
              "    </tr>\n",
              "  </thead>\n",
              "  <tbody>\n",
              "    <tr>\n",
              "      <th>count</th>\n",
              "      <td>37635.000000</td>\n",
              "      <td>37635.000000</td>\n",
              "      <td>37635.000000</td>\n",
              "      <td>37635.000000</td>\n",
              "      <td>37635.000000</td>\n",
              "    </tr>\n",
              "    <tr>\n",
              "      <th>mean</th>\n",
              "      <td>2.255055</td>\n",
              "      <td>1986.520818</td>\n",
              "      <td>2013.436482</td>\n",
              "      <td>55.374837</td>\n",
              "      <td>0.084868</td>\n",
              "    </tr>\n",
              "    <tr>\n",
              "      <th>std</th>\n",
              "      <td>0.610721</td>\n",
              "      <td>7.326340</td>\n",
              "      <td>3.638399</td>\n",
              "      <td>13.382201</td>\n",
              "      <td>0.278689</td>\n",
              "    </tr>\n",
              "    <tr>\n",
              "      <th>min</th>\n",
              "      <td>2.000000</td>\n",
              "      <td>1955.000000</td>\n",
              "      <td>2001.000000</td>\n",
              "      <td>31.000000</td>\n",
              "      <td>0.000000</td>\n",
              "    </tr>\n",
              "    <tr>\n",
              "      <th>25%</th>\n",
              "      <td>2.000000</td>\n",
              "      <td>1983.000000</td>\n",
              "      <td>2012.000000</td>\n",
              "      <td>43.000000</td>\n",
              "      <td>0.000000</td>\n",
              "    </tr>\n",
              "    <tr>\n",
              "      <th>50%</th>\n",
              "      <td>2.000000</td>\n",
              "      <td>1988.000000</td>\n",
              "      <td>2014.000000</td>\n",
              "      <td>52.000000</td>\n",
              "      <td>0.000000</td>\n",
              "    </tr>\n",
              "    <tr>\n",
              "      <th>75%</th>\n",
              "      <td>2.000000</td>\n",
              "      <td>1992.000000</td>\n",
              "      <td>2016.000000</td>\n",
              "      <td>68.000000</td>\n",
              "      <td>0.000000</td>\n",
              "    </tr>\n",
              "    <tr>\n",
              "      <th>max</th>\n",
              "      <td>11.000000</td>\n",
              "      <td>2001.000000</td>\n",
              "      <td>2018.000000</td>\n",
              "      <td>91.000000</td>\n",
              "      <td>1.000000</td>\n",
              "    </tr>\n",
              "  </tbody>\n",
              "</table>\n",
              "</div>"
            ],
            "text/plain": [
              "       Trainings_Attended  ...  Promoted_or_Not\n",
              "count        37635.000000  ...     37635.000000\n",
              "mean             2.255055  ...         0.084868\n",
              "std              0.610721  ...         0.278689\n",
              "min              2.000000  ...         0.000000\n",
              "25%              2.000000  ...         0.000000\n",
              "50%              2.000000  ...         0.000000\n",
              "75%              2.000000  ...         0.000000\n",
              "max             11.000000  ...         1.000000\n",
              "\n",
              "[8 rows x 5 columns]"
            ]
          },
          "metadata": {
            "tags": []
          },
          "execution_count": 17
        }
      ]
    },
    {
      "cell_type": "code",
      "metadata": {
        "id": "JAXLE3hBY81q",
        "colab_type": "code",
        "colab": {}
      },
      "source": [
        "%matplotlib inline\n",
        "# df[['Year_of_recruitment','Training_score_average', 'Year_of_birth']].hist(bins=50, figsize=(15,5))"
      ],
      "execution_count": 0,
      "outputs": []
    },
    {
      "cell_type": "code",
      "metadata": {
        "id": "ei772khaafwR",
        "colab_type": "code",
        "colab": {}
      },
      "source": [
        "# sns.pairplot(df[['Year_of_recruitment','Training_score_average', 'Year_of_birth']])"
      ],
      "execution_count": 0,
      "outputs": []
    },
    {
      "cell_type": "code",
      "metadata": {
        "id": "cGNKPwuPazvt",
        "colab_type": "code",
        "colab": {}
      },
      "source": [
        "s_split = StratifiedShuffleSplit(n_splits=1, test_size=0.2, random_state=42)\n",
        "\n",
        "for train_index, test_index in s_split.split(df, by):\n",
        "    strat_train_set = df.iloc[train_index]\n",
        "    strat_test_set = df.iloc[test_index]"
      ],
      "execution_count": 0,
      "outputs": []
    },
    {
      "cell_type": "code",
      "metadata": {
        "id": "iFchnUhShUfP",
        "colab_type": "code",
        "colab": {}
      },
      "source": [
        "def train_val_set(dataset, y):\n",
        "    y_set = dataset[y].copy()\n",
        "    X_set = dataset.drop(y,axis=1)\n",
        "    \n",
        "    return X_set, y_set"
      ],
      "execution_count": 0,
      "outputs": []
    },
    {
      "cell_type": "code",
      "metadata": {
        "id": "JBzpTxn8iCjT",
        "colab_type": "code",
        "colab": {}
      },
      "source": [
        "train_feature, train_label = train_val_set(strat_train_set, 'Promoted_or_Not')\n",
        "val_feature, val_label = train_val_set(strat_test_set, 'Promoted_or_Not')"
      ],
      "execution_count": 0,
      "outputs": []
    },
    {
      "cell_type": "code",
      "metadata": {
        "id": "kzI_FR4tia9q",
        "colab_type": "code",
        "colab": {}
      },
      "source": [
        "def num_cat_vals(dataframe):\n",
        "    num_vals = dataframe.select_dtypes(include=['float64','int64'])\n",
        "    cat_vals = dataframe.select_dtypes(include='category')\n",
        "    return cat_vals, num_vals"
      ],
      "execution_count": 0,
      "outputs": []
    },
    {
      "cell_type": "code",
      "metadata": {
        "id": "QlzxlxB5i347",
        "colab_type": "code",
        "colab": {}
      },
      "source": [
        "cat_vals, num_vals = num_cat_vals(train_feature)"
      ],
      "execution_count": 0,
      "outputs": []
    },
    {
      "cell_type": "code",
      "metadata": {
        "id": "Q0s6EsOS3iGe",
        "colab_type": "code",
        "colab": {}
      },
      "source": [
        "Year_of_recruitment_ix, Training_score_average_ix = [\n",
        "    list(num_vals.columns).index(col)\n",
        "    for col in ['Year_of_recruitment','Training_score_average']]\n",
        "\n",
        "\n",
        "class Add_Extra_Features(BaseEstimator, TransformerMixin):\n",
        "    def __init__(self, name =False):\n",
        "        self.name = name\n",
        "    def fit(self, X, y=None):\n",
        "        return self\n",
        "    def transform(self, X, y=None):\n",
        "        yor_per_tsa = X.iloc[:, Year_of_recruitment_ix] / X.iloc[:, Training_score_average_ix]\n",
        "        return np.c_[X, yor_per_tsa]\n",
        "    \n",
        "# attr_adder = Add_Extra_Features(name =False)\n",
        "# housing_extra_attribs = attr_adder.transform(num_vals)\n",
        "# # housing_extra_attribs\n",
        "\n",
        "# housing_extra_attribs = pd.DataFrame(\n",
        "#     housing_extra_attribs,\n",
        "#     columns=list(num_vals.columns)+['yor_per_tsa'],\n",
        "#     index=num_vals.index)\n",
        "# housing_extra_attribs.head()"
      ],
      "execution_count": 0,
      "outputs": []
    },
    {
      "cell_type": "code",
      "metadata": {
        "id": "HmsKekzHkEYF",
        "colab_type": "code",
        "colab": {}
      },
      "source": [
        "num_pipeline = Pipeline([\n",
        "     ('new_attrib', Add_Extra_Features(name =False)),\n",
        "     ('standard', StandardScaler()),\n",
        "#      ('poly', PolynomialFeatures(degree=3))\n",
        "    ])\n",
        "cat_fill =  Pipeline([\n",
        "     ('imputer', SimpleImputer(strategy=\"most_frequent\")),\n",
        "     ('one_hot', OneHotEncoder(sparse=False))\n",
        "])"
      ],
      "execution_count": 0,
      "outputs": []
    },
    {
      "cell_type": "code",
      "metadata": {
        "id": "rp56QsN3jW1h",
        "colab_type": "code",
        "colab": {}
      },
      "source": [
        "num_ = list(num_vals.columns)\n",
        "cat_one = ['Targets_met','Previous_Award','Previous_IntraDepartmental_Movement','Past_Disciplinary_Action','Foreign_schooled']\n",
        "cat_two = ['Division','Gender','Marital_Status','Last_performance_score','No_of_previous_employers','Channel_of_Recruitment','Trainings_Attended','Qualification']\n",
        "\n",
        "full_pipeline = ColumnTransformer([\n",
        "    ('num_trans', num_pipeline, num_),\n",
        "    ('cat_label', OrdinalEncoder(), cat_one),\n",
        "    ('cat_one_hot', cat_fill, cat_two),\n",
        "])\n",
        "\n",
        "pipeline_X = full_pipeline.fit_transform(train_feature)"
      ],
      "execution_count": 0,
      "outputs": []
    },
    {
      "cell_type": "code",
      "metadata": {
        "id": "hRhdMqqmlGJb",
        "colab_type": "code",
        "outputId": "9dbfe430-abc0-490c-af3b-04e758c2ee8c",
        "colab": {
          "base_uri": "https://localhost:8080/",
          "height": 34
        }
      },
      "source": [
        "pipeline_v = full_pipeline.transform(val_feature)\n",
        "pipeline_v.shape"
      ],
      "execution_count": 60,
      "outputs": [
        {
          "output_type": "execute_result",
          "data": {
            "text/plain": [
              "(7527, 53)"
            ]
          },
          "metadata": {
            "tags": []
          },
          "execution_count": 60
        }
      ]
    },
    {
      "cell_type": "code",
      "metadata": {
        "id": "vNtnjkwUma6W",
        "colab_type": "code",
        "outputId": "544746ad-dee9-4be5-f420-8e33fd4bbb8f",
        "colab": {
          "base_uri": "https://localhost:8080/",
          "height": 34
        }
      },
      "source": [
        "pipeline_X.shape"
      ],
      "execution_count": 61,
      "outputs": [
        {
          "output_type": "execute_result",
          "data": {
            "text/plain": [
              "(30108, 53)"
            ]
          },
          "metadata": {
            "tags": []
          },
          "execution_count": 61
        }
      ]
    },
    {
      "cell_type": "code",
      "metadata": {
        "id": "IGUc2AsLtxqp",
        "colab_type": "code",
        "outputId": "7e72e101-04f9-4197-c4a8-e53965b98094",
        "colab": {
          "base_uri": "https://localhost:8080/",
          "height": 247
        }
      },
      "source": [
        "pipeline_X"
      ],
      "execution_count": 62,
      "outputs": [
        {
          "output_type": "execute_result",
          "data": {
            "text/plain": [
              "array([[-0.4183091 , -0.48051514, -0.39595474, ...,  0.        ,\n",
              "         1.        ,  0.        ],\n",
              "       [-0.4183091 ,  1.1572517 ,  0.15355805, ...,  0.        ,\n",
              "         0.        ,  1.        ],\n",
              "       [-0.4183091 , -2.66420426, -2.59400591, ...,  0.        ,\n",
              "         1.        ,  0.        ],\n",
              "       ...,\n",
              "       [-0.4183091 ,  0.74780999, -0.12119834, ...,  1.        ,\n",
              "         0.        ,  0.        ],\n",
              "       [-0.4183091 ,  1.1572517 ,  0.97782724, ...,  1.        ,\n",
              "         0.        ,  0.        ],\n",
              "       [-0.4183091 , -0.88995685, -0.39595474, ...,  1.        ,\n",
              "         0.        ,  0.        ]])"
            ]
          },
          "metadata": {
            "tags": []
          },
          "execution_count": 62
        }
      ]
    },
    {
      "cell_type": "code",
      "metadata": {
        "id": "5eYhLBJAmpJN",
        "colab_type": "code",
        "colab": {}
      },
      "source": [
        "model = Pipeline([\n",
        "        ('sampling', ADASYN(random_state=42)),\n",
        "        ('classification', XGBClassifier(objective ='binary:hinge', \n",
        "                                           silent=False,\n",
        "                                         scale_pos_weight=1,\n",
        "                                         learning_rate = 0.03,\n",
        "                                         subsample = 0.6,\n",
        "                                         n_estimators=2000, \n",
        "                                         max_depth=3, \n",
        "                                         colsample_bytree = 0.9,\n",
        "                                         reg_alpha = 0.3,\n",
        "                                         gamma=0.4))\n",
        "                                         ])\n",
        "\n",
        "\n",
        "# objective ='binary:hinge', \n",
        "#                                            silent=False,\n",
        "#                                          scale_pos_weight=1,\n",
        "#                                          learning_rate = 0.03,\n",
        "#                                          subsample = 0.6,\n",
        "#                                          n_estimators=2000, \n",
        "#                                          max_depth=3, \n",
        "#                                          colsample_bytree = 0.9,\n",
        "#                                          reg_alpha = 0.3,\n",
        "#                                          gamma=0.4))\n",
        "#                                          ])\n",
        "\n",
        "\n",
        "\n",
        "#                                          silent=False,\n",
        "#                                          scale_pos_weight=1,\n",
        "#                                          learning_rate = 0.05,\n",
        "#                                          subsample = 0.6,\n",
        "#                                          n_estimators=1200, \n",
        "#                                          max_depth=3, \n",
        "#                                          colsample_bytree = 0.9,\n",
        "#                                          reg_alpha = 0.3,\n",
        "#                                          gamma=0.4))\n",
        "#     ])\n",
        "\n",
        "#                                          objective ='binary:hinge', \n",
        "#                                          silent=False,\n",
        "#                                          scale_pos_weight=1,\n",
        "#                                          learning_rate = 0.05,\n",
        "#                                          subsample = 0.8,\n",
        "#                                          n_estimators=1000, \n",
        "#                                          max_depth=5, \n",
        "#                                          colsample_bytree = 0.3,\n",
        "#                                          reg_alpha = 0.3,\n",
        "#                                          gamma=10))\n",
        "                      \n",
        "model.fit(pipeline_X, train_label)"
      ],
      "execution_count": 0,
      "outputs": []
    },
    {
      "cell_type": "code",
      "metadata": {
        "id": "D80TpqoPyZkm",
        "colab_type": "code",
        "colab": {}
      },
      "source": [
        "# model = Pipeline([\n",
        "#     ('adapt_sampling', ADASYN(random_state=1)),\n",
        "#     ('classification', LGBMClassifier(n_estimators=5000,boosting_type='dart',\n",
        "#                                 colsample_bytree=0.9, importance_type='split',\n",
        "#                                 learning_rate=0.003, max_depth=10, metric='mae',\n",
        "#                                 min_child_samples=20, min_child_weight=4,\n",
        "#                                 min_split_gain=0.0,\n",
        "#                                 n_jobs=-1, num_leaves=40, objective=None,\n",
        "#                                 random_state=None, reg_alpha=0.0,\n",
        "#                                 reg_lambda=0.572222, silent=True, subsample=0.3,\n",
        "#                                 subsample_for_bin=200000, subsample_freq=0,\n",
        "#                                 verbosity=-1 ))\n",
        "#     ])\n",
        "\n",
        "\n",
        "\n",
        "# model.fit(pipeline_X, train_label)"
      ],
      "execution_count": 0,
      "outputs": []
    },
    {
      "cell_type": "code",
      "metadata": {
        "id": "_dpOTndQcsLz",
        "colab_type": "code",
        "colab": {}
      },
      "source": [
        "# # # plot feature importance\n",
        "# ax = plot_importance(model.named_steps['classification'])\n",
        "# fig = ax.figure\n",
        "# fig.set_size_inches(20, 15)\n",
        "# plt.show()"
      ],
      "execution_count": 0,
      "outputs": []
    },
    {
      "cell_type": "code",
      "metadata": {
        "id": "GEfWF9nCgq5z",
        "colab_type": "code",
        "colab": {}
      },
      "source": [
        "# print(model.named_steps[\"classification\"].get_booster().get_fscore())"
      ],
      "execution_count": 0,
      "outputs": []
    },
    {
      "cell_type": "code",
      "metadata": {
        "id": "YmQDGilkbmNs",
        "colab_type": "code",
        "colab": {}
      },
      "source": [
        "# thresholds = sort(model.named_steps['classification'].feature_importances_)\n",
        "# for thresh in thresholds:\n",
        "#   # select features using threshold\n",
        "#   selection = SelectFromModel(model.named_steps['classification'], threshold=thresh, prefit=True)\n",
        "#   select_X_train = selection.transform(pipeline_X)\n",
        "\n",
        "#   # train model\n",
        "#   selection_model = Pipeline([\n",
        "#         ('sampling', SMOTE(random_state=42)),\n",
        "#         ('classification', XGBClassifier(objective ='binary:logistic', \n",
        "#                                          silent=False,\n",
        "#                                          scale_pos_weight=1,\n",
        "#                                          learning_rate = 0.05,\n",
        "#                                          subsample = 0.8,\n",
        "#                                          n_estimators=1000, \n",
        "#                                          max_depth=5, \n",
        "#                                          colsample_bytree = 0.3,\n",
        "#                                          reg_alpha = 0.3,\n",
        "#                                          gamma=10))\n",
        "#     ])\n",
        "#   selection_model.fit(select_X_train, train_label)\n",
        "\n",
        "#   # eval model\n",
        "#   select_X_test = selection.transform(pipeline_v)\n",
        "#   val_pred = selection_model.predict(select_X_test)\n",
        "#   predictions = [round(value) for value in val_pred]\n",
        "#   accuracy = accuracy_score(val_label, predictions)\n",
        "#   print(\"Thresh=%f, n=%d, Accuracy: %.2f%%\" % (thresh, select_X_train.shape[1], accuracy*100.0))"
      ],
      "execution_count": 0,
      "outputs": []
    },
    {
      "cell_type": "code",
      "metadata": {
        "id": "houWsNX8DC06",
        "colab_type": "code",
        "colab": {}
      },
      "source": [
        "# print(model.get_params().keys())"
      ],
      "execution_count": 0,
      "outputs": []
    },
    {
      "cell_type": "code",
      "metadata": {
        "id": "YO2rSqaDnMRK",
        "colab_type": "code",
        "colab": {}
      },
      "source": [
        "y_pred = model.predict(pipeline_X)\n",
        "model.score(pipeline_X, train_label)"
      ],
      "execution_count": 0,
      "outputs": []
    },
    {
      "cell_type": "code",
      "metadata": {
        "id": "SxP6CXHenYbT",
        "colab_type": "code",
        "colab": {}
      },
      "source": [
        "accuracy = accuracy_score(train_label.astype(int), y_pred.astype(int))\n",
        "accuracy"
      ],
      "execution_count": 0,
      "outputs": []
    },
    {
      "cell_type": "code",
      "metadata": {
        "id": "BKJ9OR7IJ72m",
        "colab_type": "code",
        "colab": {}
      },
      "source": [
        "confusion_matrix(train_label, y_pred)"
      ],
      "execution_count": 0,
      "outputs": []
    },
    {
      "cell_type": "code",
      "metadata": {
        "id": "XqcTqd4Dnh4S",
        "colab_type": "code",
        "colab": {}
      },
      "source": [
        "cl = classification_report(train_label.astype(int), y_pred.astype(int))\n",
        "print(cl)"
      ],
      "execution_count": 0,
      "outputs": []
    },
    {
      "cell_type": "code",
      "metadata": {
        "id": "ug0SXuAk7U38",
        "colab_type": "code",
        "colab": {}
      },
      "source": [
        "# param_distribs = {\n",
        "#         'classification__n_estimators': [1000, 1200, 2000],\n",
        "#         'classification__max_depth': np.arange(4, 6),\n",
        "#         'classification__gamma':[0.4, 10],\n",
        "#         'classification__subsample':[0.6, 0.9, 0.3],\n",
        "#         'classification__colsample_bytree':[0.6, 0.3, 0.9],\n",
        "#         'classification__learning_rate':[0.03, 0.05],\n",
        "#         'classification__min_child_weight': [3, 2, 5],\n",
        "\n",
        "#     }\n",
        "# cl = classification_report(train_label.astype(int), y_pred.astype(int))\n",
        "\n",
        "# rnd_search = RandomizedSearchCV(estimator = model, param_distributions=param_distribs,\n",
        "#                                 n_iter=10, cv=2, scoring='accuracy',  verbose=2, random_state=42)\n",
        "# rnd_search.fit(pipeline_X.astype(int), train_label.astype(int))\n"
      ],
      "execution_count": 0,
      "outputs": []
    },
    {
      "cell_type": "code",
      "metadata": {
        "id": "m9VFuafY7UyH",
        "colab_type": "code",
        "colab": {}
      },
      "source": [
        ""
      ],
      "execution_count": 0,
      "outputs": []
    },
    {
      "cell_type": "code",
      "metadata": {
        "id": "gy1NBthe7UOA",
        "colab_type": "code",
        "colab": {}
      },
      "source": [
        "# rnd_search.best_params_"
      ],
      "execution_count": 0,
      "outputs": []
    },
    {
      "cell_type": "code",
      "metadata": {
        "id": "CAUaM9HVTekW",
        "colab_type": "code",
        "colab": {}
      },
      "source": [
        "# rnd_search.best_estimator_"
      ],
      "execution_count": 0,
      "outputs": []
    },
    {
      "cell_type": "code",
      "metadata": {
        "id": "_xcT0JG-olJ-",
        "colab_type": "code",
        "colab": {}
      },
      "source": [
        "y_v_pred = model.predict(pipeline_v)\n",
        "y_v_pred"
      ],
      "execution_count": 0,
      "outputs": []
    },
    {
      "cell_type": "code",
      "metadata": {
        "id": "sm0WXQpFyHSc",
        "colab_type": "code",
        "colab": {}
      },
      "source": [
        "accuracy = accuracy_score(val_label.astype(int), y_v_pred.astype(int))\n",
        "accuracy"
      ],
      "execution_count": 0,
      "outputs": []
    },
    {
      "cell_type": "code",
      "metadata": {
        "id": "1nVsjf67J9-Q",
        "colab_type": "code",
        "colab": {}
      },
      "source": [
        "confusion_matrix(val_label, y_v_pred)"
      ],
      "execution_count": 0,
      "outputs": []
    },
    {
      "cell_type": "code",
      "metadata": {
        "id": "3eBPY_R4PI9p",
        "colab_type": "code",
        "colab": {}
      },
      "source": [
        "f1 = f1_score(val_label.astype(int), y_v_pred.astype(int))\n",
        "f1"
      ],
      "execution_count": 0,
      "outputs": []
    },
    {
      "cell_type": "code",
      "metadata": {
        "id": "J69A4jhjpRHz",
        "colab_type": "code",
        "colab": {}
      },
      "source": [
        "cl = classification_report(val_label.astype(int), y_v_pred.astype(int))\n",
        "print(cl)"
      ],
      "execution_count": 0,
      "outputs": []
    },
    {
      "cell_type": "code",
      "metadata": {
        "id": "-KaDAWv7-cfs",
        "colab_type": "code",
        "colab": {}
      },
      "source": [
        "# rnd_pred  = rnd_search.best_estimator_.predict(pipeline_v)\n",
        "# rnd_accuracy = accuracy_score(val_label.astype(int), rnd_pred.astype(int))\n",
        "# rnd_accuracy"
      ],
      "execution_count": 0,
      "outputs": []
    },
    {
      "cell_type": "code",
      "metadata": {
        "id": "wkiUJwxC_BWd",
        "colab_type": "code",
        "colab": {}
      },
      "source": [
        "# rnd_f1 = f1_score(val_label.astype(int), rnd_pred.astype(int))\n",
        "# rnd_f1"
      ],
      "execution_count": 0,
      "outputs": []
    },
    {
      "cell_type": "code",
      "metadata": {
        "id": "znun7bP0_J7w",
        "colab_type": "code",
        "colab": {}
      },
      "source": [
        "# confusion_matrix(val_label, rnd_pred)"
      ],
      "execution_count": 0,
      "outputs": []
    },
    {
      "cell_type": "code",
      "metadata": {
        "id": "gA113pExZ1A2",
        "colab_type": "code",
        "colab": {}
      },
      "source": [
        "# # thresholds = sort(model.named_steps['classification'].feature_importances_)\n",
        "\n",
        "# # select features using threshold\n",
        "# selection = SelectFromModel(model.named_steps['classification'], threshold=, prefit=True)\n",
        "# select_X_train = selection.transform(pipeline_X)\n",
        "\n",
        "# # train model\n",
        "# selection_model = Pipeline([\n",
        "#       ('sampling', SMOTE(random_state=42)),\n",
        "#       ('classification', XGBClassifier(objective ='binary:hinge', learning_rate = 0.05, n_estimators=300, max_depth=5, colsample_bytree = 0.3))\n",
        "#   ])\n",
        "# selection_model.fit(select_X_train, train_label)\n",
        "\n",
        "# # eval model\n",
        "# select_X_test = selection.transform(pipeline_v)\n",
        "# val_pred = selection_model.predict(select_X_test)\n",
        "# predictions = [round(value) for value in val_pred]\n",
        "# accuracy = accuracy_score(val_label, predictions)\n",
        "# accuracy\n"
      ],
      "execution_count": 0,
      "outputs": []
    },
    {
      "cell_type": "code",
      "metadata": {
        "id": "66qr7PcPbPVn",
        "colab_type": "code",
        "colab": {}
      },
      "source": [
        "# confusion_matrix(val_label, predictions)"
      ],
      "execution_count": 0,
      "outputs": []
    },
    {
      "cell_type": "code",
      "metadata": {
        "id": "z5e7Nu4Rrnj4",
        "colab_type": "code",
        "outputId": "815e99f0-3161-40ab-bd30-65031fd1c24d",
        "colab": {
          "base_uri": "https://localhost:8080/",
          "height": 34
        }
      },
      "source": [
        "pipe_test = full_pipeline.transform(test)\n",
        "pipe_test.shape"
      ],
      "execution_count": 52,
      "outputs": [
        {
          "output_type": "execute_result",
          "data": {
            "text/plain": [
              "(16496, 104)"
            ]
          },
          "metadata": {
            "tags": []
          },
          "execution_count": 52
        }
      ]
    },
    {
      "cell_type": "code",
      "metadata": {
        "id": "9MUQryrgpazX",
        "colab_type": "code",
        "colab": {}
      },
      "source": [
        " test_pred = model.predict(pipe_test)"
      ],
      "execution_count": 0,
      "outputs": []
    },
    {
      "cell_type": "code",
      "metadata": {
        "id": "_ZrvUt__8_rf",
        "colab_type": "code",
        "colab": {}
      },
      "source": [
        "# pipe_test = selection.transform(pipe_test)"
      ],
      "execution_count": 0,
      "outputs": []
    },
    {
      "cell_type": "code",
      "metadata": {
        "id": "kDXFpLms9A2D",
        "colab_type": "code",
        "colab": {}
      },
      "source": [
        "# test_pred = selection_model.predict(pipe_test)"
      ],
      "execution_count": 0,
      "outputs": []
    },
    {
      "cell_type": "code",
      "metadata": {
        "id": "3V6__S2fqIy7",
        "colab_type": "code",
        "outputId": "f1c89af2-3329-45cd-ba83-a0124705f4d7",
        "colab": {
          "base_uri": "https://localhost:8080/",
          "height": 197
        }
      },
      "source": [
        "df_sub = pd.DataFrame()\n",
        "df_sub['EmployeeNo']  = test_['EmployeeNo']\n",
        "df_sub['Promoted_or_Not'] = test_pred\n",
        "df_sub.head()"
      ],
      "execution_count": 56,
      "outputs": [
        {
          "output_type": "execute_result",
          "data": {
            "text/html": [
              "<div>\n",
              "<style scoped>\n",
              "    .dataframe tbody tr th:only-of-type {\n",
              "        vertical-align: middle;\n",
              "    }\n",
              "\n",
              "    .dataframe tbody tr th {\n",
              "        vertical-align: top;\n",
              "    }\n",
              "\n",
              "    .dataframe thead th {\n",
              "        text-align: right;\n",
              "    }\n",
              "</style>\n",
              "<table border=\"1\" class=\"dataframe\">\n",
              "  <thead>\n",
              "    <tr style=\"text-align: right;\">\n",
              "      <th></th>\n",
              "      <th>EmployeeNo</th>\n",
              "      <th>Promoted_or_Not</th>\n",
              "    </tr>\n",
              "  </thead>\n",
              "  <tbody>\n",
              "    <tr>\n",
              "      <th>0</th>\n",
              "      <td>YAK/S/00005</td>\n",
              "      <td>0</td>\n",
              "    </tr>\n",
              "    <tr>\n",
              "      <th>1</th>\n",
              "      <td>YAK/S/00011</td>\n",
              "      <td>0</td>\n",
              "    </tr>\n",
              "    <tr>\n",
              "      <th>2</th>\n",
              "      <td>YAK/S/00015</td>\n",
              "      <td>0</td>\n",
              "    </tr>\n",
              "    <tr>\n",
              "      <th>3</th>\n",
              "      <td>YAK/S/00016</td>\n",
              "      <td>0</td>\n",
              "    </tr>\n",
              "    <tr>\n",
              "      <th>4</th>\n",
              "      <td>YAK/S/00017</td>\n",
              "      <td>0</td>\n",
              "    </tr>\n",
              "  </tbody>\n",
              "</table>\n",
              "</div>"
            ],
            "text/plain": [
              "    EmployeeNo  Promoted_or_Not\n",
              "0  YAK/S/00005                0\n",
              "1  YAK/S/00011                0\n",
              "2  YAK/S/00015                0\n",
              "3  YAK/S/00016                0\n",
              "4  YAK/S/00017                0"
            ]
          },
          "metadata": {
            "tags": []
          },
          "execution_count": 56
        }
      ]
    },
    {
      "cell_type": "code",
      "metadata": {
        "id": "4KM7zD4_r_XV",
        "colab_type": "code",
        "colab": {}
      },
      "source": [
        "df_sub.to_csv(\"xgb_11_ho.csv\", index=False)"
      ],
      "execution_count": 0,
      "outputs": []
    },
    {
      "cell_type": "code",
      "metadata": {
        "id": "m4s8InB0VUz6",
        "colab_type": "code",
        "colab": {}
      },
      "source": [
        ""
      ],
      "execution_count": 0,
      "outputs": []
    }
  ]
}